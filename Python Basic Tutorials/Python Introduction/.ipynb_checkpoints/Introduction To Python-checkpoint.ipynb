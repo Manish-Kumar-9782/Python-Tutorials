{
 "cells": [
  {
   "cell_type": "markdown",
   "id": "789129b0-fe45-4e41-ac5c-36f26d2cbad3",
   "metadata": {},
   "source": [
    "# Introduction To Python"
   ]
  },
  {
   "cell_type": "markdown",
   "id": "c88f4111-c909-4525-8f1b-9f4493d00ce3",
   "metadata": {},
   "source": [
    "Data Type is in Python\n",
    "\n",
    "1. int: integer\n",
    "2. str: string\n",
    "3. bool: boolean\n",
    "4. float: float\n",
    "\n",
    "Data Structure in Python\n",
    "\n",
    "1. list: Array type list. In list we can store mulitple data types. it works similar to array. it is a mutable data structure. (can store duplicate values)\n",
    "\n",
    "2. tuple: it similar to list, but immutable data structure. (can store duplicate values.)\n",
    "\n",
    "3. set: similar to list, but we can't have duplicate values, immutable.\n",
    "\n",
    "4. dict: in this we store the data in key:value pairs. in this each key is hashed to a unique hashCode in a hash table."
   ]
  },
  {
   "cell_type": "code",
   "execution_count": 1,
   "id": "7545c7ce-e2e7-41ea-a2b9-04ba7914c93e",
   "metadata": {},
   "outputs": [],
   "source": []
  },
  {
   "cell_type": "code",
   "execution_count": null,
   "id": "34a9e5fa-507d-474d-a85f-b14de71a620a",
   "metadata": {},
   "outputs": [],
   "source": []
  },
  {
   "cell_type": "code",
   "execution_count": null,
   "id": "49cea555-d59d-4954-ba5a-94d96d82dc48",
   "metadata": {},
   "outputs": [],
   "source": []
  }
 ],
 "metadata": {
  "kernelspec": {
   "display_name": "Python 3 (ipykernel)",
   "language": "python",
   "name": "python3"
  },
  "language_info": {
   "codemirror_mode": {
    "name": "ipython",
    "version": 3
   },
   "file_extension": ".py",
   "mimetype": "text/x-python",
   "name": "python",
   "nbconvert_exporter": "python",
   "pygments_lexer": "ipython3",
   "version": "3.10.5"
  }
 },
 "nbformat": 4,
 "nbformat_minor": 5
}
