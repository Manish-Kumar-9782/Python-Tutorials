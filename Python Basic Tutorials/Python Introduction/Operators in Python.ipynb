{
 "cells": [
  {
   "cell_type": "markdown",
   "id": "672b24d3-2843-43b6-89fa-10a9bd7c3eb1",
   "metadata": {},
   "source": [
    "# Operators in Python\n",
    "\n",
    "1. Arithmatic Operators\n",
    "2. Assignment Operators\n",
    "3. Comparision Operators\n",
    "4. Logical Operator\n",
    "5. Membership Operatos\n",
    "6. Identity Operator\n",
    "7. Bitwise Operator\n",
    "8. Ternary Operator"
   ]
  },
  {
   "cell_type": "markdown",
   "id": "0313c344-5186-416e-b380-0c740d18ca78",
   "metadata": {},
   "source": [
    "### Arithmatic Operators"
   ]
  },
  {
   "cell_type": "markdown",
   "id": "85c57005-d134-4068-ad1c-72a61e4118a6",
   "metadata": {},
   "source": [
    "* `+`: plus Operator\n",
    "* `-`: minus Operator\n",
    "* `/`: divide Operator\n",
    "* `*`: multiply Operator\n",
    "* `%`: modulus Operator\n",
    "\n",
    "These arithmatic operators works similar to the math operation in python exception operator overloading.\n",
    "\n",
    "Note: all arithmatic operators works well with numbers. but with other kind of data type all of them may not work, like adding list."
   ]
  },
  {
   "cell_type": "markdown",
   "id": "d2b4ac08-d036-4ee8-947e-e39c7262825c",
   "metadata": {},
   "source": [
    "#### `+` plus Operator with integer and float data type"
   ]
  },
  {
   "cell_type": "code",
   "execution_count": 3,
   "id": "e5a83783-ca49-4f5e-96a0-3fa61fe76258",
   "metadata": {},
   "outputs": [],
   "source": [
    "a = 10\n",
    "b = 20 \n",
    "c = 3.4\n",
    "# we are taking 2 integers and 1 float value to add them."
   ]
  },
  {
   "cell_type": "code",
   "execution_count": 4,
   "id": "f558cf87-033d-4b7c-8a0a-49db88b1fe56",
   "metadata": {},
   "outputs": [
    {
     "data": {
      "text/plain": [
       "30"
      ]
     },
     "execution_count": 4,
     "metadata": {},
     "output_type": "execute_result"
    }
   ],
   "source": [
    "a + b"
   ]
  },
  {
   "cell_type": "code",
   "execution_count": 5,
   "id": "3b37a6f8-6dc1-42b2-850f-801ca3aeab0b",
   "metadata": {},
   "outputs": [
    {
     "data": {
      "text/plain": [
       "13.4"
      ]
     },
     "execution_count": 5,
     "metadata": {},
     "output_type": "execute_result"
    }
   ],
   "source": [
    "a + c"
   ]
  },
  {
   "cell_type": "markdown",
   "id": "ec961dbe-1542-40a4-bf4c-3993a851a285",
   "metadata": {},
   "source": [
    "**`+` plus operator with lists**\n",
    "\n",
    "In this case we will use the `+` plus operator to extend the list."
   ]
  },
  {
   "cell_type": "code",
   "execution_count": 6,
   "id": "e06c59ad-ff51-43f4-8fa9-e6cf1d17a372",
   "metadata": {},
   "outputs": [],
   "source": [
    "# Now we will create two list.\n",
    "list1= [1,2,3]\n",
    "list2 = [4,5,6]"
   ]
  },
  {
   "cell_type": "code",
   "execution_count": 7,
   "id": "d9da4837-79dd-4c5a-8f70-c9f5a313bdf8",
   "metadata": {},
   "outputs": [
    {
     "data": {
      "text/plain": [
       "[1, 2, 3, 4, 5, 6]"
      ]
     },
     "execution_count": 7,
     "metadata": {},
     "output_type": "execute_result"
    }
   ],
   "source": [
    "list1 + list2"
   ]
  },
  {
   "cell_type": "code",
   "execution_count": 8,
   "id": "45515be1-52cd-49ec-bad9-7995cd6ee1cc",
   "metadata": {},
   "outputs": [
    {
     "data": {
      "text/plain": [
       "[1, 2, 3]"
      ]
     },
     "execution_count": 8,
     "metadata": {},
     "output_type": "execute_result"
    }
   ],
   "source": [
    "list1"
   ]
  },
  {
   "cell_type": "code",
   "execution_count": 9,
   "id": "349e3994-830b-4a0b-ba56-5763fa53100a",
   "metadata": {},
   "outputs": [
    {
     "data": {
      "text/plain": [
       "[4, 5, 6]"
      ]
     },
     "execution_count": 9,
     "metadata": {},
     "output_type": "execute_result"
    }
   ],
   "source": [
    "list2"
   ]
  },
  {
   "cell_type": "markdown",
   "id": "6c64b7bf-9ff0-40f3-bb02-1197c522fc3d",
   "metadata": {},
   "source": [
    "`Note:` As we can see that in the above operaton we have got an extended list in which we have element form both list in given order.\n",
    "\n",
    "`Note:` list1 and list2 are not updated, it means they are just taking part in the operation to return a new list object."
   ]
  },
  {
   "cell_type": "markdown",
   "id": "1392f301-e91e-43e6-9a3e-a1c42c2dde82",
   "metadata": {},
   "source": [
    "`Operator Overloading` This type of behavior is called operator overloading in which an \n",
    "operator functionality changes with different kind of data types.\n",
    "_____"
   ]
  },
  {
   "cell_type": "markdown",
   "id": "ac807107-50ab-400e-91a5-c49a284d7450",
   "metadata": {},
   "source": [
    "#### `-` minus operator with integers and float"
   ]
  },
  {
   "cell_type": "code",
   "execution_count": 10,
   "id": "4405460f-179d-4e42-96a3-2d0a39b62497",
   "metadata": {},
   "outputs": [],
   "source": [
    "# creating two integers and one float\n",
    "a = 10\n",
    "b = 20 \n",
    "c =4.3"
   ]
  },
  {
   "cell_type": "code",
   "execution_count": 11,
   "id": "4b3a9305-3431-4bd1-8725-9e7ebb5aabe5",
   "metadata": {},
   "outputs": [
    {
     "data": {
      "text/plain": [
       "-10"
      ]
     },
     "execution_count": 11,
     "metadata": {},
     "output_type": "execute_result"
    }
   ],
   "source": [
    "a - b"
   ]
  },
  {
   "cell_type": "code",
   "execution_count": 13,
   "id": "ab4763a7-edac-422d-8e44-79ecda006548",
   "metadata": {},
   "outputs": [
    {
     "data": {
      "text/plain": [
       "10"
      ]
     },
     "execution_count": 13,
     "metadata": {},
     "output_type": "execute_result"
    }
   ],
   "source": [
    "b - a"
   ]
  },
  {
   "cell_type": "code",
   "execution_count": 14,
   "id": "26c2507f-6ad0-4b17-9c1f-bb9e1b91a174",
   "metadata": {},
   "outputs": [
    {
     "data": {
      "text/plain": [
       "-15.7"
      ]
     },
     "execution_count": 14,
     "metadata": {},
     "output_type": "execute_result"
    }
   ],
   "source": [
    "c -b"
   ]
  },
  {
   "cell_type": "markdown",
   "id": "63f64bec-65ef-4338-b603-58a9ffd7f887",
   "metadata": {},
   "source": [
    "Now if want to check that our `-` minus operators works with lists."
   ]
  },
  {
   "cell_type": "markdown",
   "id": "501b9439-dd0c-4bd3-9901-65faca74ef49",
   "metadata": {},
   "source": [
    "#### `-` minus operator with lists\n",
    "\n",
    "As we have seen that `+` plus operator returns an extended version of the l_list and r_list."
   ]
  },
  {
   "cell_type": "code",
   "execution_count": 15,
   "id": "e8f45c34-c107-4faa-8878-5b0f23199d5b",
   "metadata": {},
   "outputs": [],
   "source": [
    "list1 = [1,2,3]\n",
    "list2 = [4,5,6]"
   ]
  },
  {
   "cell_type": "code",
   "execution_count": 16,
   "id": "e392bded-65e2-4c9c-a4a0-de54259956c8",
   "metadata": {},
   "outputs": [
    {
     "ename": "TypeError",
     "evalue": "unsupported operand type(s) for -: 'list' and 'list'",
     "output_type": "error",
     "traceback": [
      "\u001b[1;31m---------------------------------------------------------------------------\u001b[0m",
      "\u001b[1;31mTypeError\u001b[0m                                 Traceback (most recent call last)",
      "Cell \u001b[1;32mIn [16], line 2\u001b[0m\n\u001b[0;32m      1\u001b[0m \u001b[38;5;66;03m# now we will minus (subtract) our list1 with list2\u001b[39;00m\n\u001b[1;32m----> 2\u001b[0m \u001b[43mlist1\u001b[49m\u001b[43m \u001b[49m\u001b[38;5;241;43m-\u001b[39;49m\u001b[43m \u001b[49m\u001b[43mlist2\u001b[49m\n",
      "\u001b[1;31mTypeError\u001b[0m: unsupported operand type(s) for -: 'list' and 'list'"
     ]
    }
   ],
   "source": [
    "# now we will minus (subtract) our list1 with list2\n",
    "list1 - list2"
   ]
  },
  {
   "cell_type": "code",
   "execution_count": 17,
   "id": "9cdacb4e-3335-41b3-940e-b2db31fe6def",
   "metadata": {},
   "outputs": [
    {
     "ename": "TypeError",
     "evalue": "unsupported operand type(s) for -: 'list' and 'list'",
     "output_type": "error",
     "traceback": [
      "\u001b[1;31m---------------------------------------------------------------------------\u001b[0m",
      "\u001b[1;31mTypeError\u001b[0m                                 Traceback (most recent call last)",
      "Cell \u001b[1;32mIn [17], line 1\u001b[0m\n\u001b[1;32m----> 1\u001b[0m \u001b[43mlist2\u001b[49m\u001b[43m \u001b[49m\u001b[38;5;241;43m-\u001b[39;49m\u001b[43m \u001b[49m\u001b[43mlist1\u001b[49m\n",
      "\u001b[1;31mTypeError\u001b[0m: unsupported operand type(s) for -: 'list' and 'list'"
     ]
    }
   ],
   "source": [
    "list2 - list1"
   ]
  },
  {
   "cell_type": "markdown",
   "id": "0a7287c4-08e2-456f-bf78-443f298457c3",
   "metadata": {},
   "source": [
    "`Note:` form the above error we can see that there is no such operation list class. so we can't subtract one list from other, unless we override the list class and define the `-` operator functionality."
   ]
  },
  {
   "cell_type": "markdown",
   "id": "a49248d3-f1f8-415b-81ec-14c814904062",
   "metadata": {},
   "source": [
    "#### `*` multipy operator with integers and float\n",
    "\n",
    "we can perform the simple multiplication on the integer and float values as we have done with the `+` and `-` operator."
   ]
  },
  {
   "cell_type": "code",
   "execution_count": 19,
   "id": "233f7d0a-b368-445c-bf7a-d0335369c25d",
   "metadata": {},
   "outputs": [],
   "source": [
    "# making three variable two integers and one float\n",
    "a = 10\n",
    "b = 20\n",
    "c = 5.6"
   ]
  },
  {
   "cell_type": "code",
   "execution_count": 20,
   "id": "710654c8-9b10-4f70-9dd8-1b608d3080a2",
   "metadata": {},
   "outputs": [
    {
     "data": {
      "text/plain": [
       "200"
      ]
     },
     "execution_count": 20,
     "metadata": {},
     "output_type": "execute_result"
    }
   ],
   "source": [
    "a * b"
   ]
  },
  {
   "cell_type": "code",
   "execution_count": 21,
   "id": "e2560e41-4655-4c2b-a258-488977f7ad9c",
   "metadata": {},
   "outputs": [
    {
     "data": {
      "text/plain": [
       "112.0"
      ]
     },
     "execution_count": 21,
     "metadata": {},
     "output_type": "execute_result"
    }
   ],
   "source": [
    "b * c"
   ]
  },
  {
   "cell_type": "markdown",
   "id": "a4d766d4-6459-44dd-a213-90fad3c075fb",
   "metadata": {},
   "source": [
    "#### `*` multiply operator with string and integer.\n",
    "\n",
    "When we apply the multiplication operator on the string with an integer, it will concate the string to itself with n number of times."
   ]
  },
  {
   "cell_type": "code",
   "execution_count": 22,
   "id": "13800136-1184-4586-8ee5-9dbeafb02ef8",
   "metadata": {},
   "outputs": [],
   "source": [
    "name = \"Manish Kumar\""
   ]
  },
  {
   "cell_type": "code",
   "execution_count": 23,
   "id": "30168918-a955-49c3-a65a-df48a9fcdcb3",
   "metadata": {},
   "outputs": [
    {
     "data": {
      "text/plain": [
       "'Manish KumarManish KumarManish KumarManish KumarManish KumarManish KumarManish KumarManish KumarManish KumarManish Kumar'"
      ]
     },
     "execution_count": 23,
     "metadata": {},
     "output_type": "execute_result"
    }
   ],
   "source": [
    "name * 10"
   ]
  },
  {
   "cell_type": "markdown",
   "id": "6860096a-0c61-4002-ae47-6e526261f8e8",
   "metadata": {},
   "source": [
    "#### `*` multiply operator with string to string"
   ]
  },
  {
   "cell_type": "code",
   "execution_count": 24,
   "id": "28e798c4-4853-405c-a76f-93f8574b991d",
   "metadata": {},
   "outputs": [],
   "source": [
    "your_name = \"Asif khan\""
   ]
  },
  {
   "cell_type": "code",
   "execution_count": 25,
   "id": "52761db5-0ebc-4ac6-9377-4b0a046a823c",
   "metadata": {},
   "outputs": [
    {
     "ename": "TypeError",
     "evalue": "can't multiply sequence by non-int of type 'str'",
     "output_type": "error",
     "traceback": [
      "\u001b[1;31m---------------------------------------------------------------------------\u001b[0m",
      "\u001b[1;31mTypeError\u001b[0m                                 Traceback (most recent call last)",
      "Cell \u001b[1;32mIn [25], line 1\u001b[0m\n\u001b[1;32m----> 1\u001b[0m \u001b[43mname\u001b[49m\u001b[43m \u001b[49m\u001b[38;5;241;43m*\u001b[39;49m\u001b[43m \u001b[49m\u001b[43myour_name\u001b[49m\n",
      "\u001b[1;31mTypeError\u001b[0m: can't multiply sequence by non-int of type 'str'"
     ]
    }
   ],
   "source": [
    "name * your_name"
   ]
  },
  {
   "cell_type": "markdown",
   "id": "209777c8-4f34-4fda-9b2e-61f753ed8cbb",
   "metadata": {},
   "source": [
    "`Note:` From the above notes we can see that, mulitpication can't performed on string to string.\n",
    "\n",
    "______"
   ]
  },
  {
   "attachments": {},
   "cell_type": "markdown",
   "id": "8915254c-3049-457c-8197-f59244d40ae3",
   "metadata": {},
   "source": [
    "#### `%` Modulus Operator\n",
    "\n",
    "if we have `numerator` and `denominator`, then after division if `denominator` not divide the `numerator` \n",
    "completely then it will give us the remainder.\n",
    "\n",
    "`%` modulus -> `numerator` / `denominator` --> `reminder`."
   ]
  },
  {
   "cell_type": "code",
   "execution_count": 1,
   "id": "7cf28eed",
   "metadata": {},
   "outputs": [],
   "source": [
    "# Now we will have some values to show the % modulus operator operation.\n",
    "a = 10\n",
    "b = 20\n",
    "c = 3"
   ]
  },
  {
   "cell_type": "code",
   "execution_count": 3,
   "metadata": {},
   "outputs": [
    {
     "data": {
      "text/plain": [
       "3.3333333333333335"
      ]
     },
     "execution_count": 3,
     "metadata": {},
     "output_type": "execute_result"
    }
   ],
   "source": [
    "# if we divide the a/c it will give us the floated values (floating number.)\n",
    "a/c"
   ]
  },
  {
   "cell_type": "code",
   "execution_count": 4,
   "id": "dbd27b03-bb06-46e3-9d14-3764c1b9c972",
   "metadata": {},
   "outputs": [
    {
     "data": {
      "text/plain": [
       "1"
      ]
     },
     "execution_count": 4,
     "metadata": {},
     "output_type": "execute_result"
    }
   ],
   "source": [
    "# and if we use the % modulus operator then it will give us the remainder.\n",
    "a%c"
   ]
  },
  {
   "attachments": {},
   "cell_type": "markdown",
   "id": "d6be1c4e",
   "metadata": {},
   "source": [
    "`Note:` if above case a is '10' and and c is '3', 3 can divide 10 by 3 times completely, after that we have 1 as remainder so, modulus operator will give us the remainder value.\n",
    "____"
   ]
  },
  {
   "attachments": {},
   "cell_type": "markdown",
   "id": "69120032",
   "metadata": {},
   "source": [
    "## Assignment Operators\n",
    "\n",
    "Assignment Operators are used to assign the `r_Value` to an `l_Operand`, we have most used assignment operators which is `=`.\n",
    "\n",
    "1. `=` Assignment Operator.\n",
    "2. `+=` Plus and Assignment operator.\n",
    "3. `-=` Minus and Assignment operator.\n",
    "4. `*=` Multiply and Assignment operator.\n",
    "5. `/=` Divide and Assignment operator.\n",
    "6. `%=` Modulus and Assignment operator.\n",
    "\n",
    "`Note:` we will use these operators whenever we need to update the value of `l_Operand`.\n",
    "\n",
    "Operators `+=`, `-=`, `/=`, `*=`, `%=` are used in same way as showing the syntax of `+=` operator to use.\n",
    "\n",
    "Syntax:\n",
    "```python\n",
    "var += 10 # ---> var = var + 10\n",
    "```"
   ]
  },
  {
   "attachments": {},
   "cell_type": "markdown",
   "id": "95a1700b",
   "metadata": {},
   "source": [
    "Suppose tahat we have two values `a` and `b`."
   ]
  },
  {
   "cell_type": "code",
   "execution_count": 6,
   "id": "3eba8d60",
   "metadata": {},
   "outputs": [],
   "source": [
    "a = 15\n",
    "b = 23"
   ]
  },
  {
   "attachments": {},
   "cell_type": "markdown",
   "id": "d3cbeb3b",
   "metadata": {},
   "source": [
    "Now we will perform simple adding operation first. then we will see the difference between the simple adding and the `+=` plus and assign operation."
   ]
  },
  {
   "cell_type": "code",
   "execution_count": 7,
   "id": "e6cc856c",
   "metadata": {},
   "outputs": [
    {
     "data": {
      "text/plain": [
       "38"
      ]
     },
     "execution_count": 7,
     "metadata": {},
     "output_type": "execute_result"
    }
   ],
   "source": [
    "# adding a and b\n",
    "a + b"
   ]
  },
  {
   "cell_type": "code",
   "execution_count": 8,
   "id": "61523940",
   "metadata": {},
   "outputs": [
    {
     "name": "stdout",
     "output_type": "stream",
     "text": [
      "a after above operation:  15\n",
      "b after above operation:  23\n"
     ]
    }
   ],
   "source": [
    "# inspecting the value of a and b after performing the operation a + b.\n",
    "print(\"a after above operation: \", a)\n",
    "print(\"b after above operation: \", b)"
   ]
  },
  {
   "attachments": {},
   "cell_type": "markdown",
   "id": "7774d37a",
   "metadata": {},
   "source": [
    "`Note:` Now if we want to store the result value inside `a` or `b`,  or we want to update any variable in that case we have situation that first values is the variable itself which is going to be updated. for example.\n",
    "```python\n",
    "var = var + other_value\n",
    "\n",
    "# this above expression can be written as \n",
    "var += other_value\n",
    "```"
   ]
  },
  {
   "cell_type": "code",
   "execution_count": 9,
   "id": "1f1656e6",
   "metadata": {},
   "outputs": [
    {
     "name": "stdout",
     "output_type": "stream",
     "text": [
      "value of a after update:  25\n"
     ]
    }
   ],
   "source": [
    "# if our a is 15 and we want ot update its value to 25 by adding 10 to its value.\n",
    "a += 10\n",
    "print(\"value of a after update: \", a)"
   ]
  },
  {
   "cell_type": "code",
   "execution_count": null,
   "id": "7c641c79",
   "metadata": {},
   "outputs": [],
   "source": []
  }
 ],
 "metadata": {
  "kernelspec": {
   "display_name": "Python 3",
   "language": "python",
   "name": "python3"
  },
  "language_info": {
   "codemirror_mode": {
    "name": "ipython",
    "version": 3
   },
   "file_extension": ".py",
   "mimetype": "text/x-python",
   "name": "python",
   "nbconvert_exporter": "python",
   "pygments_lexer": "ipython3",
   "version": "3.10.5"
  },
  "vscode": {
   "interpreter": {
    "hash": "8925120094c30cfcf52475a53e76e9e54f965c4e5eeb7d39eacd98c85315eb39"
   }
  }
 },
 "nbformat": 4,
 "nbformat_minor": 5
}
