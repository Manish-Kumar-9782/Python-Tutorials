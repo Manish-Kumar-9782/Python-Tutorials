{
 "cells": [
  {
   "attachments": {},
   "cell_type": "markdown",
   "metadata": {},
   "source": [
    "## Classes in Python"
   ]
  },
  {
   "cell_type": "code",
   "execution_count": 24,
   "metadata": {},
   "outputs": [],
   "source": [
    "class Student:\n",
    "    \n",
    "    Students = []\n",
    "    \n",
    "    # this constructor for Student class.\n",
    "    def __init__(self,name, age, height, bloodGroup):\n",
    "        self.name = name\n",
    "        self.age = age\n",
    "        self.height = height\n",
    "        self.bloodGroup = bloodGroup\n",
    "        self.__id = None\n",
    "        Student.Students.append(self)\n",
    "\n",
    "    # object string representation when use print on this object.\n",
    "    def __str__(self):\n",
    "        return f\"<Student:{self.name}>\"\n",
    "    \n",
    "    # object representation when we don't use print on this object\n",
    "    def __repr__(self):\n",
    "        return f\"<Student:{self.name}>\"\n",
    "        \n",
    "    def show_info(self):\n",
    "        \n",
    "        print(\"Name: \", self.name)\n",
    "        print(\"Age: \", self.age)\n",
    "        print(\"Height: \", self.height)\n",
    "        print(\"BloodGroup: \", self.bloodGroup)"
   ]
  },
  {
   "cell_type": "code",
   "execution_count": 25,
   "metadata": {},
   "outputs": [],
   "source": [
    "st = Student(\"chandan\", 19, 5.6, \"A+\")"
   ]
  },
  {
   "cell_type": "code",
   "execution_count": 26,
   "metadata": {},
   "outputs": [
    {
     "data": {
      "text/plain": [
       "[<Student:chandan>]"
      ]
     },
     "execution_count": 26,
     "metadata": {},
     "output_type": "execute_result"
    }
   ],
   "source": [
    "Student.Students"
   ]
  },
  {
   "cell_type": "code",
   "execution_count": 27,
   "metadata": {},
   "outputs": [],
   "source": [
    "st2 = Student(\"assif\", 21, 5.5, \"AB+\")"
   ]
  },
  {
   "cell_type": "code",
   "execution_count": 28,
   "metadata": {},
   "outputs": [
    {
     "data": {
      "text/plain": [
       "[<Student:chandan>, <Student:assif>]"
      ]
     },
     "execution_count": 28,
     "metadata": {},
     "output_type": "execute_result"
    }
   ],
   "source": [
    "Student.Students"
   ]
  },
  {
   "cell_type": "code",
   "execution_count": 23,
   "metadata": {},
   "outputs": [
    {
     "name": "stdout",
     "output_type": "stream",
     "text": [
      "<Student:chandan>\n"
     ]
    }
   ],
   "source": [
    "print(st)"
   ]
  },
  {
   "cell_type": "code",
   "execution_count": 17,
   "metadata": {},
   "outputs": [
    {
     "data": {
      "text/plain": [
       "__main__.Student"
      ]
     },
     "execution_count": 17,
     "metadata": {},
     "output_type": "execute_result"
    }
   ],
   "source": []
  },
  {
   "attachments": {},
   "cell_type": "markdown",
   "metadata": {},
   "source": [
    "## Person Class"
   ]
  },
  {
   "cell_type": "code",
   "execution_count": 29,
   "metadata": {},
   "outputs": [],
   "source": [
    "class Person:\n",
    "    \n",
    "    def __init__(self,name, age, height, bloodGroup):\n",
    "        self.name = name\n",
    "        self.age = age\n",
    "        self.height = height\n",
    "        self.bloodGroup = bloodGroup\n",
    "\n",
    "    def show_info(self):\n",
    "        \n",
    "        print(\"Name: \", self.name)\n",
    "        print(\"Age: \", self.age)\n",
    "        print(\"Height: \", self.height)\n",
    "        print(\"BloodGroup: \", self.bloodGroup)"
   ]
  },
  {
   "attachments": {},
   "cell_type": "markdown",
   "metadata": {},
   "source": [
    "## Student Class"
   ]
  },
  {
   "cell_type": "code",
   "execution_count": 56,
   "metadata": {},
   "outputs": [],
   "source": [
    "class Student(Person):\n",
    "    \n",
    "    Students = []\n",
    "    # this constructor for Student class.\n",
    "    def __init__(self,name, age, height, bloodGroup,rollNo, stream, address, mobileNo):\n",
    "        super().__init__(name, age, height, bloodGroup)\n",
    "        self.rollNo = rollNo\n",
    "        self.stream = stream\n",
    "        self.address = address\n",
    "        self.mobileNo = mobileNo\n",
    "        Student.Students.append(self)\n",
    "\n",
    "    # object string representation when use print on this object.\n",
    "    def __str__(self):\n",
    "        return f\"<Student:{self.name}>\"\n",
    "    \n",
    "    # object representation when we don't use print on this object\n",
    "    def __repr__(self):\n",
    "        return f\"<Student:{self.name}>\"\n",
    "        \n",
    "    def show_info(self):\n",
    "        super().show_info()\n",
    "        print(\"Roll N.: \", self.rollNo)\n",
    "        print(\"Stream: \", self.stream)\n",
    "        print(\"Address: \", self.address)\n",
    "        print(\"MobileNo.: \", self.mobileNo)\n",
    "        \n",
    "    @staticmethod\n",
    "    def show_students():\n",
    "        for student in Student.Students:\n",
    "            student.show_info();\n",
    "            print(\"====================================================\")"
   ]
  },
  {
   "cell_type": "code",
   "execution_count": 54,
   "metadata": {},
   "outputs": [],
   "source": [
    "st = Student(\"assif\", 21, 5.6, \"AB+\", 12345, \"Maths\",\"Jaipur\",7894563210)\n",
    "st1 = Student(\"chandan\", 20, 5.5, \"B+\", 12347, \"Science\",\"Delhi\",6547893210)"
   ]
  },
  {
   "cell_type": "code",
   "execution_count": 55,
   "metadata": {},
   "outputs": [
    {
     "name": "stdout",
     "output_type": "stream",
     "text": [
      "Name:  assif\n",
      "Age:  21\n",
      "Height:  5.6\n",
      "BloodGroup:  AB+\n",
      "Roll N.:  12345\n",
      "Stream:  Maths\n",
      "Address:  Jaipur\n",
      "MobileNo.:  7894563210\n",
      "====================================================\n",
      "Name:  chandan\n",
      "Age:  20\n",
      "Height:  5.5\n",
      "BloodGroup:  B+\n",
      "Roll N.:  12347\n",
      "Stream:  Science\n",
      "Address:  Delhi\n",
      "MobileNo.:  6547893210\n",
      "====================================================\n"
     ]
    }
   ],
   "source": [
    "Student.show_students()"
   ]
  },
  {
   "cell_type": "code",
   "execution_count": 36,
   "metadata": {},
   "outputs": [
    {
     "name": "stdout",
     "output_type": "stream",
     "text": [
      "Name:  assif\n",
      "Age:  21\n",
      "Height:  5.6\n",
      "BloodGroup:  AB+\n",
      "Roll N.:  12345\n",
      "Stream:  Maths\n",
      "Address:  Jaipur\n",
      "MobileNo.:  7894563210\n"
     ]
    }
   ],
   "source": [
    "st.show_info()"
   ]
  },
  {
   "cell_type": "code",
   "execution_count": 40,
   "metadata": {},
   "outputs": [
    {
     "data": {
      "text/plain": [
       "[<Student:assif>, <Student:chandan>]"
      ]
     },
     "execution_count": 40,
     "metadata": {},
     "output_type": "execute_result"
    }
   ],
   "source": [
    "Student.Students"
   ]
  },
  {
   "cell_type": "code",
   "execution_count": null,
   "metadata": {},
   "outputs": [],
   "source": []
  }
 ],
 "metadata": {
  "kernelspec": {
   "display_name": "Python 3",
   "language": "python",
   "name": "python3"
  },
  "language_info": {
   "codemirror_mode": {
    "name": "ipython",
    "version": 3
   },
   "file_extension": ".py",
   "mimetype": "text/x-python",
   "name": "python",
   "nbconvert_exporter": "python",
   "pygments_lexer": "ipython3",
   "version": "3.10.5"
  },
  "orig_nbformat": 4
 },
 "nbformat": 4,
 "nbformat_minor": 2
}
