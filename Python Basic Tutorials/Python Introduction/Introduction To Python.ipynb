{
 "cells": [
  {
   "cell_type": "markdown",
   "id": "789129b0-fe45-4e41-ac5c-36f26d2cbad3",
   "metadata": {},
   "source": [
    "# Introduction To Python"
   ]
  },
  {
   "cell_type": "markdown",
   "id": "c88f4111-c909-4525-8f1b-9f4493d00ce3",
   "metadata": {},
   "source": [
    "Data Type is in Python\n",
    "\n",
    "1. int: integer\n",
    "2. str: string\n",
    "3. bool: boolean\n",
    "4. float: float\n",
    "\n",
    "Data Structure in Python\n",
    "\n",
    "1. list: Array type list. In list we can store mulitple data types. it works similar to array. it is a mutable data structure. (can store duplicate values)\n",
    "\n",
    "2. tuple: it similar to list, but immutable data structure. (can store duplicate values.)\n",
    "\n",
    "3. set: similar to list, but we can't have duplicate values, immutable.\n",
    "\n",
    "4. dict: in this we store the data in key:value pairs. in this each key is hashed to a unique hashCode in a hash table."
   ]
  },
  {
   "cell_type": "markdown",
   "id": "29ea16c1-5c5f-4151-9dda-462b1b754232",
   "metadata": {},
   "source": [
    "## List"
   ]
  },
  {
   "cell_type": "markdown",
   "id": "b66905ee-c83f-4142-8b02-b1eea4821be2",
   "metadata": {},
   "source": [
    "### Creating a list\n",
    "\n",
    "To create a list follow the syntax:\n",
    "\n",
    "```python\n",
    "# first make a variable \n",
    "a = [1,2,3,4,5]\n",
    "# now assing some values inside square bracket\n",
    "```"
   ]
  },
  {
   "cell_type": "code",
   "execution_count": 4,
   "id": "49cea555-d59d-4954-ba5a-94d96d82dc48",
   "metadata": {},
   "outputs": [],
   "source": [
    "mylist = [1,2,3,4,5]"
   ]
  },
  {
   "cell_type": "markdown",
   "id": "4ad4293c-c160-4182-928e-74813767913a",
   "metadata": {},
   "source": [
    "**Accessing Elemeent form List**\n",
    "\n",
    "To access an element from list we use subscript method. in this we use square bracket `[]` after the list reference varaible name. in our case `mylist` is the reference variable name for our list.\n",
    "\n",
    "So to access the element placed at index number 1.\n",
    "\n",
    "```python\n",
    "mylist[1]; \n",
    "# this will return the value stored at 1th index number inside the mylist.\n",
    "```"
   ]
  },
  {
   "cell_type": "code",
   "execution_count": 7,
   "id": "bf46ef42-33f2-4145-aa8e-dc9be633d644",
   "metadata": {},
   "outputs": [
    {
     "data": {
      "text/plain": [
       "[1, 2, 3, 4, 5]"
      ]
     },
     "execution_count": 7,
     "metadata": {},
     "output_type": "execute_result"
    }
   ],
   "source": [
    "# inspecting/repesenting our list\n",
    "mylist"
   ]
  },
  {
   "cell_type": "code",
   "execution_count": 8,
   "id": "c26b5bd5-219b-4770-a961-ccf6448ed2a7",
   "metadata": {},
   "outputs": [
    {
     "data": {
      "text/plain": [
       "2"
      ]
     },
     "execution_count": 8,
     "metadata": {},
     "output_type": "execute_result"
    }
   ],
   "source": [
    "# accessing an element placed at 1th index number.\n",
    "mylist[1]"
   ]
  },
  {
   "cell_type": "markdown",
   "id": "68ca2284-cdcb-4c34-9ed1-098fbe8b09d0",
   "metadata": {},
   "source": [
    "**Assigning or Replacing an element**\n",
    "\n",
    "To change an element or replace its value first we should know the index number of that value.\n",
    "\n",
    "Note: if we don't know the index number of an elmeent then we can find the index number of that element by using the `list.index()` method."
   ]
  },
  {
   "cell_type": "code",
   "execution_count": 10,
   "id": "8afbb42c-a6cb-4446-b871-0a854fe73037",
   "metadata": {},
   "outputs": [
    {
     "data": {
      "text/plain": [
       "3"
      ]
     },
     "execution_count": 10,
     "metadata": {},
     "output_type": "execute_result"
    }
   ],
   "source": [
    "mylist.index(4)"
   ]
  },
  {
   "cell_type": "markdown",
   "id": "383c3cd4-11da-4da8-868e-3d5d9c940cbc",
   "metadata": {},
   "source": [
    "Now we know that our number `4` is placed at index number `3`. so to replace or assinging a new value at the place of index number `3`.\n",
    "\n",
    "syntax:\n",
    "```python\n",
    "mylist[index] = new_value\n",
    "```"
   ]
  },
  {
   "cell_type": "code",
   "execution_count": 11,
   "id": "9066663a-3179-41c9-9c86-2b331760b2ca",
   "metadata": {},
   "outputs": [],
   "source": [
    "mylist[3] = \"bye bye\""
   ]
  },
  {
   "cell_type": "code",
   "execution_count": 12,
   "id": "001121cd-ada3-4fa6-99b9-76297ea5af2d",
   "metadata": {},
   "outputs": [
    {
     "data": {
      "text/plain": [
       "[1, 2, 3, 'bye bye', 5]"
      ]
     },
     "execution_count": 12,
     "metadata": {},
     "output_type": "execute_result"
    }
   ],
   "source": [
    "mylist"
   ]
  },
  {
   "cell_type": "markdown",
   "id": "9ba6d9bb-2033-4cab-9363-3e2c21d3252b",
   "metadata": {},
   "source": [
    "### Removing element\n",
    "\n",
    "1. pop() method, removes element by index number.\n",
    "    `pop()` mehtod is \n",
    "2. remove() method, removes element by it' value."
   ]
  },
  {
   "cell_type": "code",
   "execution_count": 13,
   "id": "1e7cc7a4-0f83-4fc6-a75b-2b0d6b4f21d4",
   "metadata": {},
   "outputs": [
    {
     "data": {
      "text/plain": [
       "'bye bye'"
      ]
     },
     "execution_count": 13,
     "metadata": {},
     "output_type": "execute_result"
    }
   ],
   "source": [
    "mylist.pop(3)"
   ]
  },
  {
   "cell_type": "code",
   "execution_count": 14,
   "id": "7da6df8e-fcc4-410a-a13f-ba1d40bf76e1",
   "metadata": {},
   "outputs": [
    {
     "data": {
      "text/plain": [
       "[1, 2, 3, 5]"
      ]
     },
     "execution_count": 14,
     "metadata": {},
     "output_type": "execute_result"
    }
   ],
   "source": [
    "mylist"
   ]
  },
  {
   "cell_type": "code",
   "execution_count": 15,
   "id": "02a93a6e-513d-44ae-be26-769898d09204",
   "metadata": {},
   "outputs": [],
   "source": [
    "mylist[3] = \"hello\""
   ]
  },
  {
   "cell_type": "code",
   "execution_count": 16,
   "id": "60c87b39-1cd6-47bb-a9c1-b6dd348e8392",
   "metadata": {},
   "outputs": [
    {
     "data": {
      "text/plain": [
       "[1, 2, 3, 'hello']"
      ]
     },
     "execution_count": 16,
     "metadata": {},
     "output_type": "execute_result"
    }
   ],
   "source": [
    "mylist"
   ]
  },
  {
   "cell_type": "code",
   "execution_count": 18,
   "id": "ebb2dd31-4a47-4a42-97a8-d1c6aa276ac0",
   "metadata": {},
   "outputs": [],
   "source": [
    "# removing elemet by uisng the remove method.\n",
    "mylist.remove(\"hello\")"
   ]
  },
  {
   "cell_type": "code",
   "execution_count": 19,
   "id": "b8f118fe-b34a-4a19-b59c-abf556546ce5",
   "metadata": {},
   "outputs": [
    {
     "data": {
      "text/plain": [
       "[1, 2, 3]"
      ]
     },
     "execution_count": 19,
     "metadata": {},
     "output_type": "execute_result"
    }
   ],
   "source": [
    "mylist"
   ]
  },
  {
   "cell_type": "code",
   "execution_count": null,
   "id": "d34e5f03-6dba-4e25-a167-cf77bc036c4b",
   "metadata": {},
   "outputs": [],
   "source": []
  }
 ],
 "metadata": {
  "kernelspec": {
   "display_name": "Python 3 (ipykernel)",
   "language": "python",
   "name": "python3"
  },
  "language_info": {
   "codemirror_mode": {
    "name": "ipython",
    "version": 3
   },
   "file_extension": ".py",
   "mimetype": "text/x-python",
   "name": "python",
   "nbconvert_exporter": "python",
   "pygments_lexer": "ipython3",
   "version": "3.10.5"
  }
 },
 "nbformat": 4,
 "nbformat_minor": 5
}
