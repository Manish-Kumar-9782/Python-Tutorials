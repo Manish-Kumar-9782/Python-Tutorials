{
 "cells": [
  {
   "cell_type": "markdown",
   "id": "789129b0-fe45-4e41-ac5c-36f26d2cbad3",
   "metadata": {},
   "source": [
    "# Introduction To Python"
   ]
  },
  {
   "cell_type": "markdown",
   "id": "c88f4111-c909-4525-8f1b-9f4493d00ce3",
   "metadata": {},
   "source": [
    "Data Type is in Python\n",
    "\n",
    "1. int: integer\n",
    "2. str: string\n",
    "3. bool: boolean\n",
    "4. float: float\n",
    "\n",
    "Data Structure in Python\n",
    "\n",
    "1. list: Array type list. In list we can store mulitple data types. it works similar to array. it is a mutable data structure. (can store duplicate values)\n",
    "\n",
    "2. tuple: it similar to list, but immutable data structure. (can store duplicate values.)\n",
    "\n",
    "3. set: similar to list, but we can't have duplicate values, immutable.\n",
    "\n",
    "4. dict: in this we store the data in key:value pairs. in this each key is hashed to a unique hashCode in a hash table."
   ]
  },
  {
   "cell_type": "markdown",
   "id": "29ea16c1-5c5f-4151-9dda-462b1b754232",
   "metadata": {},
   "source": [
    "## List"
   ]
  },
  {
   "cell_type": "markdown",
   "id": "b66905ee-c83f-4142-8b02-b1eea4821be2",
   "metadata": {},
   "source": [
    "### Creating a list\n",
    "\n",
    "To create a list follow the syntax:\n",
    "\n",
    "```python\n",
    "# first make a variable \n",
    "a = [1,2,3,4,5]\n",
    "# now assing some values inside square bracket\n",
    "```"
   ]
  },
  {
   "cell_type": "code",
   "execution_count": 59,
   "id": "49cea555-d59d-4954-ba5a-94d96d82dc48",
   "metadata": {},
   "outputs": [],
   "source": [
    "mylist = [1,2,3,4,5]"
   ]
  },
  {
   "cell_type": "markdown",
   "id": "4ad4293c-c160-4182-928e-74813767913a",
   "metadata": {},
   "source": [
    "**Accessing Elemeent form List**\n",
    "\n",
    "To access an element from list we use subscript method. in this we use square bracket `[]` after the list reference varaible name. in our case `mylist` is the reference variable name for our list.\n",
    "\n",
    "So to access the element placed at index number 1.\n",
    "\n",
    "```python\n",
    "mylist[1]; \n",
    "# this will return the value stored at 1th index number inside the mylist.\n",
    "```"
   ]
  },
  {
   "cell_type": "code",
   "execution_count": 60,
   "id": "bf46ef42-33f2-4145-aa8e-dc9be633d644",
   "metadata": {},
   "outputs": [
    {
     "data": {
      "text/plain": [
       "[1, 2, 3, 4, 5]"
      ]
     },
     "execution_count": 60,
     "metadata": {},
     "output_type": "execute_result"
    }
   ],
   "source": [
    "# inspecting/repesenting our list\n",
    "mylist"
   ]
  },
  {
   "cell_type": "code",
   "execution_count": 61,
   "id": "c26b5bd5-219b-4770-a961-ccf6448ed2a7",
   "metadata": {},
   "outputs": [
    {
     "data": {
      "text/plain": [
       "2"
      ]
     },
     "execution_count": 61,
     "metadata": {},
     "output_type": "execute_result"
    }
   ],
   "source": [
    "# accessing an element placed at 1th index number.\n",
    "mylist[1]"
   ]
  },
  {
   "cell_type": "markdown",
   "id": "10f656d2-7f9f-4a69-afc9-f3160a3b43a4",
   "metadata": {},
   "source": [
    "**Getting the length of list**\n",
    "\n",
    "if we want to know the length of list, we can use `len()` in buit function of python."
   ]
  },
  {
   "cell_type": "code",
   "execution_count": 62,
   "id": "d3c1e813-b398-4b48-8367-71bb314608a1",
   "metadata": {},
   "outputs": [
    {
     "data": {
      "text/plain": [
       "5"
      ]
     },
     "execution_count": 62,
     "metadata": {},
     "output_type": "execute_result"
    }
   ],
   "source": [
    "# getting the length of mylist 'list'\n",
    "len(mylist)"
   ]
  },
  {
   "cell_type": "markdown",
   "id": "68ca2284-cdcb-4c34-9ed1-098fbe8b09d0",
   "metadata": {},
   "source": [
    "**Assigning or Replacing an element**\n",
    "\n",
    "To change an element or replace its value first we should know the index number of that value.\n",
    "\n",
    "Note: if we don't know the index number of an elmeent then we can find the index number of that element by using the `list.index()` method."
   ]
  },
  {
   "cell_type": "code",
   "execution_count": 63,
   "id": "8afbb42c-a6cb-4446-b871-0a854fe73037",
   "metadata": {},
   "outputs": [
    {
     "data": {
      "text/plain": [
       "3"
      ]
     },
     "execution_count": 63,
     "metadata": {},
     "output_type": "execute_result"
    }
   ],
   "source": [
    "mylist.index(4)"
   ]
  },
  {
   "cell_type": "markdown",
   "id": "383c3cd4-11da-4da8-868e-3d5d9c940cbc",
   "metadata": {},
   "source": [
    "Now we know that our number `4` is placed at index number `3`. so to replace or assinging a new value at the place of index number `3`.\n",
    "\n",
    "syntax:\n",
    "```python\n",
    "mylist[index] = new_value\n",
    "```"
   ]
  },
  {
   "cell_type": "code",
   "execution_count": 64,
   "id": "9066663a-3179-41c9-9c86-2b331760b2ca",
   "metadata": {},
   "outputs": [],
   "source": [
    "mylist[3] = \"bye bye\""
   ]
  },
  {
   "cell_type": "code",
   "execution_count": 65,
   "id": "001121cd-ada3-4fa6-99b9-76297ea5af2d",
   "metadata": {},
   "outputs": [
    {
     "data": {
      "text/plain": [
       "[1, 2, 3, 'bye bye', 5]"
      ]
     },
     "execution_count": 65,
     "metadata": {},
     "output_type": "execute_result"
    }
   ],
   "source": [
    "mylist"
   ]
  },
  {
   "cell_type": "markdown",
   "id": "9ba6d9bb-2033-4cab-9363-3e2c21d3252b",
   "metadata": {},
   "source": [
    "### Removing element\n",
    "\n",
    "1. pop() method, removes element by index number.\n",
    "    `pop()` mehtod is \n",
    "2. remove() method, removes element by it' value."
   ]
  },
  {
   "cell_type": "code",
   "execution_count": 66,
   "id": "1e7cc7a4-0f83-4fc6-a75b-2b0d6b4f21d4",
   "metadata": {},
   "outputs": [
    {
     "data": {
      "text/plain": [
       "'bye bye'"
      ]
     },
     "execution_count": 66,
     "metadata": {},
     "output_type": "execute_result"
    }
   ],
   "source": [
    "mylist.pop(3)"
   ]
  },
  {
   "cell_type": "code",
   "execution_count": 67,
   "id": "7da6df8e-fcc4-410a-a13f-ba1d40bf76e1",
   "metadata": {},
   "outputs": [
    {
     "data": {
      "text/plain": [
       "[1, 2, 3, 5]"
      ]
     },
     "execution_count": 67,
     "metadata": {},
     "output_type": "execute_result"
    }
   ],
   "source": [
    "mylist"
   ]
  },
  {
   "cell_type": "code",
   "execution_count": 68,
   "id": "02a93a6e-513d-44ae-be26-769898d09204",
   "metadata": {},
   "outputs": [],
   "source": [
    "mylist[3] = \"hello\""
   ]
  },
  {
   "cell_type": "code",
   "execution_count": 69,
   "id": "60c87b39-1cd6-47bb-a9c1-b6dd348e8392",
   "metadata": {},
   "outputs": [
    {
     "data": {
      "text/plain": [
       "[1, 2, 3, 'hello']"
      ]
     },
     "execution_count": 69,
     "metadata": {},
     "output_type": "execute_result"
    }
   ],
   "source": [
    "mylist"
   ]
  },
  {
   "cell_type": "code",
   "execution_count": 70,
   "id": "ebb2dd31-4a47-4a42-97a8-d1c6aa276ac0",
   "metadata": {},
   "outputs": [],
   "source": [
    "# removing elemet by uisng the remove method.\n",
    "mylist.remove(\"hello\")"
   ]
  },
  {
   "cell_type": "code",
   "execution_count": 71,
   "id": "b8f118fe-b34a-4a19-b59c-abf556546ce5",
   "metadata": {},
   "outputs": [
    {
     "data": {
      "text/plain": [
       "[1, 2, 3]"
      ]
     },
     "execution_count": 71,
     "metadata": {},
     "output_type": "execute_result"
    }
   ],
   "source": [
    "mylist"
   ]
  },
  {
   "cell_type": "markdown",
   "id": "66c769f0-0924-497c-a1b6-54ba94ab73a5",
   "metadata": {},
   "source": [
    "### append method\n",
    "\n",
    "This method is used to add values inside list ,it adds the value at last position and increases the length of list."
   ]
  },
  {
   "cell_type": "code",
   "execution_count": 72,
   "id": "116a6c8a-d01e-47f4-9d37-4535b8403c29",
   "metadata": {},
   "outputs": [],
   "source": [
    "mylist.append(10)"
   ]
  },
  {
   "cell_type": "code",
   "execution_count": 73,
   "id": "41277a96-9e72-4450-8ce9-351b10c6b010",
   "metadata": {},
   "outputs": [
    {
     "data": {
      "text/plain": [
       "[1, 2, 3, 10]"
      ]
     },
     "execution_count": 73,
     "metadata": {},
     "output_type": "execute_result"
    }
   ],
   "source": [
    "mylist"
   ]
  },
  {
   "cell_type": "markdown",
   "id": "257cde82-cd11-4942-8f93-2dec4461d0c0",
   "metadata": {},
   "source": [
    "**inserting a value at a given index number by using insert method**"
   ]
  },
  {
   "cell_type": "markdown",
   "id": "70c39bd3-cc7d-4ff0-b38f-23cbcd1e2985",
   "metadata": {},
   "source": [
    "### Insert method"
   ]
  },
  {
   "cell_type": "code",
   "execution_count": 74,
   "id": "0394b551-bfd4-46cc-b50d-968a3d877187",
   "metadata": {},
   "outputs": [
    {
     "name": "stdout",
     "output_type": "stream",
     "text": [
      "Help on method_descriptor:\n",
      "\n",
      "insert(self, index, object, /)\n",
      "    Insert object before index.\n",
      "\n"
     ]
    }
   ],
   "source": [
    "help(list.insert)"
   ]
  },
  {
   "cell_type": "code",
   "execution_count": 75,
   "id": "4dd4c54a-026c-4928-a96c-376002b67f78",
   "metadata": {},
   "outputs": [
    {
     "data": {
      "text/plain": [
       "[1, 2, 3, 10]"
      ]
     },
     "execution_count": 75,
     "metadata": {},
     "output_type": "execute_result"
    }
   ],
   "source": [
    "mylist"
   ]
  },
  {
   "cell_type": "code",
   "execution_count": 76,
   "id": "2789764b-92f3-4da5-8b88-91893bef6b84",
   "metadata": {},
   "outputs": [],
   "source": [
    "mylist.append(\"Helli\")\n",
    "mylist.append(\"kello\")\n",
    "mylist.append(\"Jello\")"
   ]
  },
  {
   "cell_type": "code",
   "execution_count": 77,
   "id": "4a933ae4-d0b8-4ab8-8b48-12d97db6d246",
   "metadata": {},
   "outputs": [
    {
     "data": {
      "text/plain": [
       "[1, 2, 3, 10, 'Helli', 'kello', 'Jello']"
      ]
     },
     "execution_count": 77,
     "metadata": {},
     "output_type": "execute_result"
    }
   ],
   "source": [
    "mylist"
   ]
  },
  {
   "cell_type": "markdown",
   "id": "62c3d386-de36-46b8-8ef0-e21ed1c1b96f",
   "metadata": {},
   "source": [
    "`Note:` Now we want to add something else before 'Helli', in this case we will use `insert()` method, it takes two parameters, `'index'` and another is `'object'`."
   ]
  },
  {
   "cell_type": "code",
   "execution_count": 78,
   "id": "216be862-8d48-4735-84fc-624464b1d4a5",
   "metadata": {},
   "outputs": [],
   "source": [
    "mylist.insert(4, \"yellow\")"
   ]
  },
  {
   "cell_type": "code",
   "execution_count": 79,
   "id": "f9cc35ef-5f49-4acb-882d-5163f3d646cd",
   "metadata": {},
   "outputs": [
    {
     "data": {
      "text/plain": [
       "[1, 2, 3, 10, 'yellow', 'Helli', 'kello', 'Jello']"
      ]
     },
     "execution_count": 79,
     "metadata": {},
     "output_type": "execute_result"
    }
   ],
   "source": [
    "mylist"
   ]
  },
  {
   "cell_type": "code",
   "execution_count": 80,
   "id": "20854548-0d78-429c-9fb7-3557ba9b2900",
   "metadata": {},
   "outputs": [
    {
     "data": {
      "text/plain": [
       "8"
      ]
     },
     "execution_count": 80,
     "metadata": {},
     "output_type": "execute_result"
    }
   ],
   "source": [
    "len(mylist)"
   ]
  },
  {
   "cell_type": "markdown",
   "id": "8313dd3c-b264-4b9e-9b50-4bb2fbc70db8",
   "metadata": {},
   "source": [
    "### extend method"
   ]
  },
  {
   "cell_type": "code",
   "execution_count": 81,
   "id": "f7a3cc76-1370-45e6-b80c-abdd53cd4bf9",
   "metadata": {},
   "outputs": [
    {
     "name": "stdout",
     "output_type": "stream",
     "text": [
      "Help on method_descriptor:\n",
      "\n",
      "extend(self, iterable, /)\n",
      "    Extend list by appending elements from the iterable.\n",
      "\n"
     ]
    }
   ],
   "source": [
    "help(list.extend)"
   ]
  },
  {
   "cell_type": "markdown",
   "id": "da903fd9-7f40-4880-b131-3b09b2ccaf76",
   "metadata": {},
   "source": [
    "`iterable:` a sequence which is countable, non hashable, we can access element one by one after another. "
   ]
  },
  {
   "cell_type": "markdown",
   "id": "b9b23068-ea60-4006-ac94-135c94a71c45",
   "metadata": {},
   "source": [
    "**using append method on to add another list.**"
   ]
  },
  {
   "cell_type": "code",
   "execution_count": 82,
   "id": "7199b47b-efcd-408f-8aa7-d06761257643",
   "metadata": {},
   "outputs": [],
   "source": [
    "yourlist = ['Aasif', \"Chandan\", \"Aasish\"]"
   ]
  },
  {
   "cell_type": "code",
   "execution_count": 83,
   "id": "8cd169bc-f966-4288-a98b-31eb36635892",
   "metadata": {},
   "outputs": [
    {
     "data": {
      "text/plain": [
       "[1, 2, 3, 10, 'yellow', 'Helli', 'kello', 'Jello']"
      ]
     },
     "execution_count": 83,
     "metadata": {},
     "output_type": "execute_result"
    }
   ],
   "source": [
    "mylist"
   ]
  },
  {
   "cell_type": "code",
   "execution_count": 84,
   "id": "c2de445b-c067-4cdb-8e63-c50c9a8b7cdf",
   "metadata": {},
   "outputs": [],
   "source": [
    "# Now put yourlist  into mylist using append method.\n",
    "mylist.append(yourlist)"
   ]
  },
  {
   "cell_type": "code",
   "execution_count": 85,
   "id": "911c1af1-e59f-431f-8f44-0d53d8f0a097",
   "metadata": {},
   "outputs": [
    {
     "data": {
      "text/plain": [
       "[1,\n",
       " 2,\n",
       " 3,\n",
       " 10,\n",
       " 'yellow',\n",
       " 'Helli',\n",
       " 'kello',\n",
       " 'Jello',\n",
       " ['Aasif', 'Chandan', 'Aasish']]"
      ]
     },
     "execution_count": 85,
     "metadata": {},
     "output_type": "execute_result"
    }
   ],
   "source": [
    "mylist"
   ]
  },
  {
   "cell_type": "code",
   "execution_count": 86,
   "id": "128df7e0-ba96-4673-a02d-a1b1e3bbf7dd",
   "metadata": {},
   "outputs": [
    {
     "data": {
      "text/plain": [
       "9"
      ]
     },
     "execution_count": 86,
     "metadata": {},
     "output_type": "execute_result"
    }
   ],
   "source": [
    "# checking the lenght of list\n",
    "len(mylist)"
   ]
  },
  {
   "cell_type": "code",
   "execution_count": 87,
   "id": "81e02997-42c8-411c-b22a-115858cafbaa",
   "metadata": {},
   "outputs": [
    {
     "data": {
      "text/plain": [
       "['Aasif', 'Chandan', 'Aasish']"
      ]
     },
     "execution_count": 87,
     "metadata": {},
     "output_type": "execute_result"
    }
   ],
   "source": [
    "# Acessing the last element\n",
    "mylist[8]"
   ]
  },
  {
   "cell_type": "markdown",
   "id": "ae10980e-394d-45ec-b40d-c0f900f16b52",
   "metadata": {},
   "source": [
    "`Conclusion:` append method insert/add the object as it is. if any iterable given then it will not put each individual element form that iterable, it will put that iterable as it is, as a single value. "
   ]
  },
  {
   "cell_type": "markdown",
   "id": "abf26f72-0c24-4545-8b04-adb06fc4ca28",
   "metadata": {},
   "source": [
    "Now if we want to add an iterable object value in to our list as individual element we will use `extend()` method."
   ]
  },
  {
   "cell_type": "markdown",
   "id": "5e7c6929-f021-4581-bce7-67e6b2948dd8",
   "metadata": {},
   "source": [
    "**extend method**"
   ]
  },
  {
   "cell_type": "code",
   "execution_count": 88,
   "id": "b037f22b-cdd7-4c26-a6ca-7328eabce4c3",
   "metadata": {},
   "outputs": [
    {
     "data": {
      "text/plain": [
       "[1,\n",
       " 2,\n",
       " 3,\n",
       " 10,\n",
       " 'yellow',\n",
       " 'Helli',\n",
       " 'kello',\n",
       " 'Jello',\n",
       " ['Aasif', 'Chandan', 'Aasish']]"
      ]
     },
     "execution_count": 88,
     "metadata": {},
     "output_type": "execute_result"
    }
   ],
   "source": [
    "mylist"
   ]
  },
  {
   "cell_type": "code",
   "execution_count": 89,
   "id": "1f3d4cb9-f258-43e5-8413-83521505ecd7",
   "metadata": {},
   "outputs": [
    {
     "data": {
      "text/plain": [
       "['Aasif', 'Chandan', 'Aasish']"
      ]
     },
     "execution_count": 89,
     "metadata": {},
     "output_type": "execute_result"
    }
   ],
   "source": [
    "yourlist"
   ]
  },
  {
   "cell_type": "code",
   "execution_count": 90,
   "id": "acaf79e3-c315-4df9-8050-2101ad809f9e",
   "metadata": {},
   "outputs": [],
   "source": [
    "anotherList = [\"Hello\", \"Jello\", \"Kello\"]"
   ]
  },
  {
   "cell_type": "code",
   "execution_count": 91,
   "id": "8a1f7a6a-2622-4842-a664-07114c823ca8",
   "metadata": {},
   "outputs": [],
   "source": [
    "# Now we will extend 'yourlist' by 'anotherlist'\n",
    "yourlist.extend(anotherList)"
   ]
  },
  {
   "cell_type": "code",
   "execution_count": 92,
   "id": "24370e4c-b5d7-46b8-9d0a-1a20c0c7f5a3",
   "metadata": {},
   "outputs": [
    {
     "data": {
      "text/plain": [
       "['Aasif', 'Chandan', 'Aasish', 'Hello', 'Jello', 'Kello']"
      ]
     },
     "execution_count": 92,
     "metadata": {},
     "output_type": "execute_result"
    }
   ],
   "source": [
    "yourlist"
   ]
  },
  {
   "cell_type": "code",
   "execution_count": 93,
   "id": "21b30cca-0722-46ee-b39c-23d9eb93d753",
   "metadata": {},
   "outputs": [
    {
     "data": {
      "text/plain": [
       "6"
      ]
     },
     "execution_count": 93,
     "metadata": {},
     "output_type": "execute_result"
    }
   ],
   "source": [
    "len(yourlist)"
   ]
  },
  {
   "cell_type": "code",
   "execution_count": 94,
   "id": "7cf09bb4-6176-4211-8b50-132c75b73284",
   "metadata": {
    "tags": []
   },
   "outputs": [
    {
     "name": "stdout",
     "output_type": "stream",
     "text": [
      "Help on class list in module builtins:\n",
      "\n",
      "class list(object)\n",
      " |  list(iterable=(), /)\n",
      " |  \n",
      " |  Built-in mutable sequence.\n",
      " |  \n",
      " |  If no argument is given, the constructor creates a new empty list.\n",
      " |  The argument must be an iterable if specified.\n",
      " |  \n",
      " |  Methods defined here:\n",
      " |  \n",
      " |  __add__(self, value, /)\n",
      " |      Return self+value.\n",
      " |  \n",
      " |  __contains__(self, key, /)\n",
      " |      Return key in self.\n",
      " |  \n",
      " |  __delitem__(self, key, /)\n",
      " |      Delete self[key].\n",
      " |  \n",
      " |  __eq__(self, value, /)\n",
      " |      Return self==value.\n",
      " |  \n",
      " |  __ge__(self, value, /)\n",
      " |      Return self>=value.\n",
      " |  \n",
      " |  __getattribute__(self, name, /)\n",
      " |      Return getattr(self, name).\n",
      " |  \n",
      " |  __getitem__(...)\n",
      " |      x.__getitem__(y) <==> x[y]\n",
      " |  \n",
      " |  __gt__(self, value, /)\n",
      " |      Return self>value.\n",
      " |  \n",
      " |  __iadd__(self, value, /)\n",
      " |      Implement self+=value.\n",
      " |  \n",
      " |  __imul__(self, value, /)\n",
      " |      Implement self*=value.\n",
      " |  \n",
      " |  __init__(self, /, *args, **kwargs)\n",
      " |      Initialize self.  See help(type(self)) for accurate signature.\n",
      " |  \n",
      " |  __iter__(self, /)\n",
      " |      Implement iter(self).\n",
      " |  \n",
      " |  __le__(self, value, /)\n",
      " |      Return self<=value.\n",
      " |  \n",
      " |  __len__(self, /)\n",
      " |      Return len(self).\n",
      " |  \n",
      " |  __lt__(self, value, /)\n",
      " |      Return self<value.\n",
      " |  \n",
      " |  __mul__(self, value, /)\n",
      " |      Return self*value.\n",
      " |  \n",
      " |  __ne__(self, value, /)\n",
      " |      Return self!=value.\n",
      " |  \n",
      " |  __repr__(self, /)\n",
      " |      Return repr(self).\n",
      " |  \n",
      " |  __reversed__(self, /)\n",
      " |      Return a reverse iterator over the list.\n",
      " |  \n",
      " |  __rmul__(self, value, /)\n",
      " |      Return value*self.\n",
      " |  \n",
      " |  __setitem__(self, key, value, /)\n",
      " |      Set self[key] to value.\n",
      " |  \n",
      " |  __sizeof__(self, /)\n",
      " |      Return the size of the list in memory, in bytes.\n",
      " |  \n",
      " |  append(self, object, /)\n",
      " |      Append object to the end of the list.\n",
      " |  \n",
      " |  clear(self, /)\n",
      " |      Remove all items from list.\n",
      " |  \n",
      " |  copy(self, /)\n",
      " |      Return a shallow copy of the list.\n",
      " |  \n",
      " |  count(self, value, /)\n",
      " |      Return number of occurrences of value.\n",
      " |  \n",
      " |  extend(self, iterable, /)\n",
      " |      Extend list by appending elements from the iterable.\n",
      " |  \n",
      " |  index(self, value, start=0, stop=9223372036854775807, /)\n",
      " |      Return first index of value.\n",
      " |      \n",
      " |      Raises ValueError if the value is not present.\n",
      " |  \n",
      " |  insert(self, index, object, /)\n",
      " |      Insert object before index.\n",
      " |  \n",
      " |  pop(self, index=-1, /)\n",
      " |      Remove and return item at index (default last).\n",
      " |      \n",
      " |      Raises IndexError if list is empty or index is out of range.\n",
      " |  \n",
      " |  remove(self, value, /)\n",
      " |      Remove first occurrence of value.\n",
      " |      \n",
      " |      Raises ValueError if the value is not present.\n",
      " |  \n",
      " |  reverse(self, /)\n",
      " |      Reverse *IN PLACE*.\n",
      " |  \n",
      " |  sort(self, /, *, key=None, reverse=False)\n",
      " |      Sort the list in ascending order and return None.\n",
      " |      \n",
      " |      The sort is in-place (i.e. the list itself is modified) and stable (i.e. the\n",
      " |      order of two equal elements is maintained).\n",
      " |      \n",
      " |      If a key function is given, apply it once to each list item and sort them,\n",
      " |      ascending or descending, according to their function values.\n",
      " |      \n",
      " |      The reverse flag can be set to sort in descending order.\n",
      " |  \n",
      " |  ----------------------------------------------------------------------\n",
      " |  Class methods defined here:\n",
      " |  \n",
      " |  __class_getitem__(...) from builtins.type\n",
      " |      See PEP 585\n",
      " |  \n",
      " |  ----------------------------------------------------------------------\n",
      " |  Static methods defined here:\n",
      " |  \n",
      " |  __new__(*args, **kwargs) from builtins.type\n",
      " |      Create and return a new object.  See help(type) for accurate signature.\n",
      " |  \n",
      " |  ----------------------------------------------------------------------\n",
      " |  Data and other attributes defined here:\n",
      " |  \n",
      " |  __hash__ = None\n",
      "\n"
     ]
    }
   ],
   "source": [
    "help(list)"
   ]
  },
  {
   "cell_type": "markdown",
   "id": "5c2fa7da-2f6f-4b77-8900-cbbc00b5b97c",
   "metadata": {
    "tags": []
   },
   "source": [
    "### Clear and Copy\n",
    "Clear: to empty the list.\n",
    "\n",
    "Copy: to make a shallow copy."
   ]
  },
  {
   "cell_type": "code",
   "execution_count": 95,
   "id": "ba99181e-9594-47b1-9fe0-9dd8598ae207",
   "metadata": {},
   "outputs": [
    {
     "name": "stdout",
     "output_type": "stream",
     "text": [
      "Help on method_descriptor:\n",
      "\n",
      "clear(self, /)\n",
      "    Remove all items from list.\n",
      "\n"
     ]
    }
   ],
   "source": [
    "help(list.clear)"
   ]
  },
  {
   "cell_type": "code",
   "execution_count": null,
   "id": "5f0c3b0b-e6ed-486e-8c5f-40755f8df704",
   "metadata": {},
   "outputs": [],
   "source": []
  },
  {
   "cell_type": "code",
   "execution_count": 96,
   "id": "240372e6-2e83-4b9d-b965-daa1795f1b58",
   "metadata": {},
   "outputs": [
    {
     "name": "stdout",
     "output_type": "stream",
     "text": [
      "Help on method_descriptor:\n",
      "\n",
      "copy(self, /)\n",
      "    Return a shallow copy of the list.\n",
      "\n"
     ]
    }
   ],
   "source": [
    "help(list.copy)"
   ]
  },
  {
   "cell_type": "code",
   "execution_count": 97,
   "id": "87e65eb3-9c34-4f8c-b674-bb7d01a09a95",
   "metadata": {},
   "outputs": [],
   "source": [
    "# clearing the lst by using clear method of list.\n",
    "mylist.clear()"
   ]
  },
  {
   "cell_type": "code",
   "execution_count": 98,
   "id": "4ea522e0-6d2e-4354-8f7b-74ffa2b04a8d",
   "metadata": {},
   "outputs": [
    {
     "data": {
      "text/plain": [
       "[]"
      ]
     },
     "execution_count": 98,
     "metadata": {},
     "output_type": "execute_result"
    }
   ],
   "source": [
    "mylist"
   ]
  },
  {
   "cell_type": "code",
   "execution_count": 99,
   "id": "1c6368e7-afd3-4017-829e-de2ac624a1e6",
   "metadata": {},
   "outputs": [
    {
     "data": {
      "text/plain": [
       "[]"
      ]
     },
     "execution_count": 99,
     "metadata": {},
     "output_type": "execute_result"
    }
   ],
   "source": [
    "mylist"
   ]
  },
  {
   "cell_type": "markdown",
   "id": "139ac472-2a39-4566-8763-731f8def6c98",
   "metadata": {},
   "source": [
    "Now we have removed all items form mylist, in this case we can't retrieve our data from memory but we can make a copy of that list. for that we will use `copy()` on that list.\n"
   ]
  },
  {
   "cell_type": "code",
   "execution_count": 100,
   "id": "e7ae1a25-dd58-4d91-a000-8a60f5ac4d32",
   "metadata": {},
   "outputs": [
    {
     "data": {
      "text/plain": [
       "['Aasif', 'Chandan', 'Aasish', 'Hello', 'Jello', 'Kello']"
      ]
     },
     "execution_count": 100,
     "metadata": {},
     "output_type": "execute_result"
    }
   ],
   "source": [
    "yourlist"
   ]
  },
  {
   "cell_type": "code",
   "execution_count": 101,
   "id": "ba17d412-37fe-4d2b-83d1-bb1ee2bea01c",
   "metadata": {},
   "outputs": [],
   "source": [
    "mylist = yourlist"
   ]
  },
  {
   "cell_type": "markdown",
   "id": "bc2e4248-7466-44bf-87ab-65d7e39068fb",
   "metadata": {},
   "source": [
    "Note: we have just assigned yourlist to mylist identifier in this case it will only make reference link with mylist, it means now we can use `yourlist` by using the `mylist` variable/identifier."
   ]
  },
  {
   "cell_type": "code",
   "execution_count": 102,
   "id": "638cd09d-318a-4ac8-9ce0-c5ed046d67cd",
   "metadata": {},
   "outputs": [
    {
     "data": {
      "text/plain": [
       "['Aasif', 'Chandan', 'Aasish', 'Hello', 'Jello', 'Kello']"
      ]
     },
     "execution_count": 102,
     "metadata": {},
     "output_type": "execute_result"
    }
   ],
   "source": [
    "mylist"
   ]
  },
  {
   "cell_type": "markdown",
   "id": "56aa8a03-60db-443c-be65-7ceeb05554aa",
   "metadata": {},
   "source": [
    "Now to test that our `mylist` is referring `yourlist` object, we can use `id()` function which will show the unique for each object."
   ]
  },
  {
   "cell_type": "code",
   "execution_count": 103,
   "id": "d0500ce4-68db-4a3a-a438-4808a4481e4a",
   "metadata": {},
   "outputs": [
    {
     "data": {
      "text/plain": [
       "1870933066432"
      ]
     },
     "execution_count": 103,
     "metadata": {},
     "output_type": "execute_result"
    }
   ],
   "source": [
    "id(mylist)"
   ]
  },
  {
   "cell_type": "code",
   "execution_count": 104,
   "id": "f25bd9c9-a744-43e7-a9b1-f6c575943b86",
   "metadata": {},
   "outputs": [
    {
     "data": {
      "text/plain": [
       "1870933066432"
      ]
     },
     "execution_count": 104,
     "metadata": {},
     "output_type": "execute_result"
    }
   ],
   "source": [
    "id(yourlist)"
   ]
  },
  {
   "cell_type": "code",
   "execution_count": 105,
   "id": "bf05f5c7-e0c9-4808-998e-bed64ad6952f",
   "metadata": {},
   "outputs": [
    {
     "data": {
      "text/plain": [
       "True"
      ]
     },
     "execution_count": 105,
     "metadata": {},
     "output_type": "execute_result"
    }
   ],
   "source": [
    "# matching our yourlist id with mylist id\n",
    "id(mylist) == id(yourlist)\n"
   ]
  },
  {
   "cell_type": "code",
   "execution_count": 106,
   "id": "db66341c-9ba1-4112-b1f5-593b38f402fe",
   "metadata": {},
   "outputs": [
    {
     "data": {
      "text/plain": [
       "True"
      ]
     },
     "execution_count": 106,
     "metadata": {},
     "output_type": "execute_result"
    }
   ],
   "source": [
    "mylist is yourlist"
   ]
  },
  {
   "cell_type": "markdown",
   "id": "05d89be6-b104-43bf-84b0-80d7878934c5",
   "metadata": {},
   "source": [
    "Note: as we can see that in above cell `mylist` and `yourlist` both variables are pointing to the same reference, so we can say that they both have same list.\n",
    "\n",
    "Note: In above assignment operation no new data is created. only `yourlist` reference was passed to the `mylist`.\n",
    "\n",
    "Now we will use copy() method on `yourlist` to make a real copy of `yourlist` and we will assign that copy to the `mylist` variable."
   ]
  },
  {
   "cell_type": "code",
   "execution_count": 107,
   "id": "6b1fa918-1ad1-4963-9414-cb5de90847d6",
   "metadata": {},
   "outputs": [],
   "source": [
    "mylist = yourlist.copy()"
   ]
  },
  {
   "cell_type": "markdown",
   "id": "8209ad0b-3ed5-43d4-bb02-692a7a470518",
   "metadata": {},
   "source": [
    "Now we will check again both `mylist` and `yourlist` variable."
   ]
  },
  {
   "cell_type": "code",
   "execution_count": 108,
   "id": "37b14a8a-98c5-4a12-aa35-bccbb9e0809a",
   "metadata": {},
   "outputs": [
    {
     "data": {
      "text/plain": [
       "1870925543808"
      ]
     },
     "execution_count": 108,
     "metadata": {},
     "output_type": "execute_result"
    }
   ],
   "source": [
    "# id of mylist\n",
    "id(mylist)"
   ]
  },
  {
   "cell_type": "code",
   "execution_count": 109,
   "id": "a5f85b60-b032-4c8d-a0b6-c4e7af19db5a",
   "metadata": {},
   "outputs": [
    {
     "data": {
      "text/plain": [
       "1870933066432"
      ]
     },
     "execution_count": 109,
     "metadata": {},
     "output_type": "execute_result"
    }
   ],
   "source": [
    "# id of yourlist\n",
    "id(yourlist)"
   ]
  },
  {
   "cell_type": "code",
   "execution_count": 110,
   "id": "ed21c76b-e0c5-4890-b5e4-6abb1ab51bfd",
   "metadata": {},
   "outputs": [
    {
     "data": {
      "text/plain": [
       "False"
      ]
     },
     "execution_count": 110,
     "metadata": {},
     "output_type": "execute_result"
    }
   ],
   "source": [
    "mylist is yourlist"
   ]
  },
  {
   "cell_type": "code",
   "execution_count": 111,
   "id": "e7f39461-35bc-4d67-95b0-2f4cf59ea426",
   "metadata": {},
   "outputs": [
    {
     "data": {
      "text/plain": [
       "True"
      ]
     },
     "execution_count": 111,
     "metadata": {},
     "output_type": "execute_result"
    }
   ],
   "source": [
    "mylist == yourlist"
   ]
  },
  {
   "cell_type": "code",
   "execution_count": null,
   "id": "d3fb3050-7a06-4bd8-8f2a-18829dfde3d9",
   "metadata": {},
   "outputs": [],
   "source": []
  },
  {
   "cell_type": "markdown",
   "id": "af455490-16a2-4d5f-aa1e-27e416240f70",
   "metadata": {},
   "source": [
    "### sort and reverse\n",
    "sort: to sort the list.\n",
    "\n",
    "reverse: to reverse the list."
   ]
  },
  {
   "cell_type": "code",
   "execution_count": 112,
   "id": "c94fc6ec-ec69-44a1-b690-9d72bc68c0ee",
   "metadata": {},
   "outputs": [
    {
     "data": {
      "text/plain": [
       "['Aasif', 'Chandan', 'Aasish', 'Hello', 'Jello', 'Kello']"
      ]
     },
     "execution_count": 112,
     "metadata": {},
     "output_type": "execute_result"
    }
   ],
   "source": [
    "mylist"
   ]
  },
  {
   "cell_type": "markdown",
   "id": "3f1ff871-9c4f-45e2-bb79-9e1969bfef9d",
   "metadata": {},
   "source": [
    "Now we will sort our list."
   ]
  },
  {
   "cell_type": "code",
   "execution_count": 117,
   "id": "85a3050a-0bbc-4370-b215-487999c1c922",
   "metadata": {},
   "outputs": [],
   "source": [
    "mylist.sort()"
   ]
  },
  {
   "cell_type": "code",
   "execution_count": 118,
   "id": "925d45c3-eb03-4c0c-98e6-89bb3ad01615",
   "metadata": {},
   "outputs": [
    {
     "data": {
      "text/plain": [
       "['Aasif', 'Aasish', 'Chandan', 'Hello', 'Jello', 'Kello']"
      ]
     },
     "execution_count": 118,
     "metadata": {},
     "output_type": "execute_result"
    }
   ],
   "source": [
    "mylist"
   ]
  },
  {
   "cell_type": "markdown",
   "id": "b0b4c63f-c937-4b38-936a-fc3ccb754976",
   "metadata": {},
   "source": [
    "Using reverse on mylist"
   ]
  },
  {
   "cell_type": "code",
   "execution_count": 119,
   "id": "a7bb49c0-6cc6-45f4-bc48-21f3cef1dfe5",
   "metadata": {},
   "outputs": [],
   "source": [
    "mylist.reverse()"
   ]
  },
  {
   "cell_type": "code",
   "execution_count": 120,
   "id": "ad672a05-943d-4dfd-8e9d-78dd30ba8c39",
   "metadata": {},
   "outputs": [
    {
     "data": {
      "text/plain": [
       "['Kello', 'Jello', 'Hello', 'Chandan', 'Aasish', 'Aasif']"
      ]
     },
     "execution_count": 120,
     "metadata": {},
     "output_type": "execute_result"
    }
   ],
   "source": [
    "mylist"
   ]
  },
  {
   "cell_type": "markdown",
   "id": "57e5539c-ef31-4815-918b-723334bb70d0",
   "metadata": {},
   "source": [
    "### count"
   ]
  },
  {
   "cell_type": "code",
   "execution_count": 121,
   "id": "4a62a199-76ad-4eaf-8a00-702b61632c9f",
   "metadata": {},
   "outputs": [
    {
     "data": {
      "text/plain": [
       "1"
      ]
     },
     "execution_count": 121,
     "metadata": {},
     "output_type": "execute_result"
    }
   ],
   "source": [
    "mylist.count(\"Hello\")"
   ]
  },
  {
   "cell_type": "code",
   "execution_count": 122,
   "id": "b98039b7-02cc-4f89-a707-2239e7c1b994",
   "metadata": {},
   "outputs": [],
   "source": [
    "import random"
   ]
  },
  {
   "cell_type": "code",
   "execution_count": 123,
   "id": "27729980-bf51-4e12-a49e-320aa25ea25c",
   "metadata": {},
   "outputs": [],
   "source": [
    "random_data = [random.randint(1,40) for i in range(1, 40)]"
   ]
  },
  {
   "cell_type": "code",
   "execution_count": 125,
   "id": "96ca96c2-6384-4ea6-b4f7-b8e81c324900",
   "metadata": {},
   "outputs": [
    {
     "name": "stdout",
     "output_type": "stream",
     "text": [
      "[37, 5, 32, 29, 24, 15, 15, 19, 25, 7, 3, 37, 35, 32, 1, 2, 18, 30, 17, 28, 9, 15, 2, 1, 19, 6, 33, 8, 7, 3, 12, 21, 6, 7, 38, 22, 40, 9, 36]\n"
     ]
    }
   ],
   "source": [
    "print(random_data)"
   ]
  },
  {
   "cell_type": "code",
   "execution_count": 128,
   "id": "f9e8da1b-5f41-4eba-a595-b00281dfd5e0",
   "metadata": {},
   "outputs": [
    {
     "data": {
      "text/plain": [
       "2"
      ]
     },
     "execution_count": 128,
     "metadata": {},
     "output_type": "execute_result"
    }
   ],
   "source": [
    "random_data.count(2)"
   ]
  },
  {
   "cell_type": "code",
   "execution_count": null,
   "id": "1f9ae779-59fb-459d-b419-6b678a85fbc1",
   "metadata": {},
   "outputs": [],
   "source": []
  }
 ],
 "metadata": {
  "kernelspec": {
   "display_name": "Python 3 (ipykernel)",
   "language": "python",
   "name": "python3"
  },
  "language_info": {
   "codemirror_mode": {
    "name": "ipython",
    "version": 3
   },
   "file_extension": ".py",
   "mimetype": "text/x-python",
   "name": "python",
   "nbconvert_exporter": "python",
   "pygments_lexer": "ipython3",
   "version": "3.10.5"
  }
 },
 "nbformat": 4,
 "nbformat_minor": 5
}
