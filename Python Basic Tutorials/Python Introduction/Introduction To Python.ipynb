{
 "cells": [
  {
   "cell_type": "markdown",
   "id": "789129b0-fe45-4e41-ac5c-36f26d2cbad3",
   "metadata": {},
   "source": [
    "# Introduction To Python"
   ]
  },
  {
   "cell_type": "markdown",
   "id": "c88f4111-c909-4525-8f1b-9f4493d00ce3",
   "metadata": {},
   "source": [
    "Data Type is in Python\n",
    "\n",
    "1. int: integer\n",
    "2. str: string\n",
    "3. bool: boolean\n",
    "4. float: float\n",
    "\n",
    "Data Structure in Python\n",
    "\n",
    "1. list: Array type list. In list we can store mulitple data types. it works similar to array. it is a mutable data structure. (can store duplicate values)\n",
    "\n",
    "2. tuple: it similar to list, but immutable data structure. (can store duplicate values.)\n",
    "\n",
    "3. set: similar to list, but we can't have duplicate values, immutable.\n",
    "\n",
    "4. dict: in this we store the data in key:value pairs. in this each key is hashed to a unique hashCode in a hash table."
   ]
  },
  {
   "cell_type": "markdown",
   "id": "29ea16c1-5c5f-4151-9dda-462b1b754232",
   "metadata": {},
   "source": [
    "## List"
   ]
  },
  {
   "cell_type": "markdown",
   "id": "b66905ee-c83f-4142-8b02-b1eea4821be2",
   "metadata": {},
   "source": [
    "### Creating a list\n",
    "\n",
    "To create a list follow the syntax:\n",
    "\n",
    "```python\n",
    "# first make a variable \n",
    "a = [1,2,3,4,5]\n",
    "# now assing some values inside square bracket\n",
    "```"
   ]
  },
  {
   "cell_type": "code",
   "execution_count": 48,
   "id": "49cea555-d59d-4954-ba5a-94d96d82dc48",
   "metadata": {},
   "outputs": [],
   "source": [
    "mylist = [1,2,3,4,5]"
   ]
  },
  {
   "cell_type": "markdown",
   "id": "4ad4293c-c160-4182-928e-74813767913a",
   "metadata": {},
   "source": [
    "**Accessing Elemeent form List**\n",
    "\n",
    "To access an element from list we use subscript method. in this we use square bracket `[]` after the list reference varaible name. in our case `mylist` is the reference variable name for our list.\n",
    "\n",
    "So to access the element placed at index number 1.\n",
    "\n",
    "```python\n",
    "mylist[1]; \n",
    "# this will return the value stored at 1th index number inside the mylist.\n",
    "```"
   ]
  },
  {
   "cell_type": "code",
   "execution_count": 49,
   "id": "bf46ef42-33f2-4145-aa8e-dc9be633d644",
   "metadata": {},
   "outputs": [
    {
     "data": {
      "text/plain": [
       "[1, 2, 3, 4, 5]"
      ]
     },
     "execution_count": 49,
     "metadata": {},
     "output_type": "execute_result"
    }
   ],
   "source": [
    "# inspecting/repesenting our list\n",
    "mylist"
   ]
  },
  {
   "cell_type": "code",
   "execution_count": 50,
   "id": "c26b5bd5-219b-4770-a961-ccf6448ed2a7",
   "metadata": {},
   "outputs": [
    {
     "data": {
      "text/plain": [
       "2"
      ]
     },
     "execution_count": 50,
     "metadata": {},
     "output_type": "execute_result"
    }
   ],
   "source": [
    "# accessing an element placed at 1th index number.\n",
    "mylist[1]"
   ]
  },
  {
   "cell_type": "markdown",
   "id": "10f656d2-7f9f-4a69-afc9-f3160a3b43a4",
   "metadata": {},
   "source": [
    "**Getting the length of list**\n",
    "\n",
    "if we want to know the length of list, we can use `len()` in buit function of python."
   ]
  },
  {
   "cell_type": "code",
   "execution_count": 69,
   "id": "d3c1e813-b398-4b48-8367-71bb314608a1",
   "metadata": {},
   "outputs": [
    {
     "data": {
      "text/plain": [
       "8"
      ]
     },
     "execution_count": 69,
     "metadata": {},
     "output_type": "execute_result"
    }
   ],
   "source": [
    "# getting the length of mylist 'list'\n",
    "len(mylist)"
   ]
  },
  {
   "cell_type": "markdown",
   "id": "68ca2284-cdcb-4c34-9ed1-098fbe8b09d0",
   "metadata": {},
   "source": [
    "**Assigning or Replacing an element**\n",
    "\n",
    "To change an element or replace its value first we should know the index number of that value.\n",
    "\n",
    "Note: if we don't know the index number of an elmeent then we can find the index number of that element by using the `list.index()` method."
   ]
  },
  {
   "cell_type": "code",
   "execution_count": 51,
   "id": "8afbb42c-a6cb-4446-b871-0a854fe73037",
   "metadata": {},
   "outputs": [
    {
     "data": {
      "text/plain": [
       "3"
      ]
     },
     "execution_count": 51,
     "metadata": {},
     "output_type": "execute_result"
    }
   ],
   "source": [
    "mylist.index(4)"
   ]
  },
  {
   "cell_type": "markdown",
   "id": "383c3cd4-11da-4da8-868e-3d5d9c940cbc",
   "metadata": {},
   "source": [
    "Now we know that our number `4` is placed at index number `3`. so to replace or assinging a new value at the place of index number `3`.\n",
    "\n",
    "syntax:\n",
    "```python\n",
    "mylist[index] = new_value\n",
    "```"
   ]
  },
  {
   "cell_type": "code",
   "execution_count": 52,
   "id": "9066663a-3179-41c9-9c86-2b331760b2ca",
   "metadata": {},
   "outputs": [],
   "source": [
    "mylist[3] = \"bye bye\""
   ]
  },
  {
   "cell_type": "code",
   "execution_count": 53,
   "id": "001121cd-ada3-4fa6-99b9-76297ea5af2d",
   "metadata": {},
   "outputs": [
    {
     "data": {
      "text/plain": [
       "[1, 2, 3, 'bye bye', 5]"
      ]
     },
     "execution_count": 53,
     "metadata": {},
     "output_type": "execute_result"
    }
   ],
   "source": [
    "mylist"
   ]
  },
  {
   "cell_type": "markdown",
   "id": "9ba6d9bb-2033-4cab-9363-3e2c21d3252b",
   "metadata": {},
   "source": [
    "### Removing element\n",
    "\n",
    "1. pop() method, removes element by index number.\n",
    "    `pop()` mehtod is \n",
    "2. remove() method, removes element by it' value."
   ]
  },
  {
   "cell_type": "code",
   "execution_count": 54,
   "id": "1e7cc7a4-0f83-4fc6-a75b-2b0d6b4f21d4",
   "metadata": {},
   "outputs": [
    {
     "data": {
      "text/plain": [
       "'bye bye'"
      ]
     },
     "execution_count": 54,
     "metadata": {},
     "output_type": "execute_result"
    }
   ],
   "source": [
    "mylist.pop(3)"
   ]
  },
  {
   "cell_type": "code",
   "execution_count": 55,
   "id": "7da6df8e-fcc4-410a-a13f-ba1d40bf76e1",
   "metadata": {},
   "outputs": [
    {
     "data": {
      "text/plain": [
       "[1, 2, 3, 5]"
      ]
     },
     "execution_count": 55,
     "metadata": {},
     "output_type": "execute_result"
    }
   ],
   "source": [
    "mylist"
   ]
  },
  {
   "cell_type": "code",
   "execution_count": 56,
   "id": "02a93a6e-513d-44ae-be26-769898d09204",
   "metadata": {},
   "outputs": [],
   "source": [
    "mylist[3] = \"hello\""
   ]
  },
  {
   "cell_type": "code",
   "execution_count": 57,
   "id": "60c87b39-1cd6-47bb-a9c1-b6dd348e8392",
   "metadata": {},
   "outputs": [
    {
     "data": {
      "text/plain": [
       "[1, 2, 3, 'hello']"
      ]
     },
     "execution_count": 57,
     "metadata": {},
     "output_type": "execute_result"
    }
   ],
   "source": [
    "mylist"
   ]
  },
  {
   "cell_type": "code",
   "execution_count": 58,
   "id": "ebb2dd31-4a47-4a42-97a8-d1c6aa276ac0",
   "metadata": {},
   "outputs": [],
   "source": [
    "# removing elemet by uisng the remove method.\n",
    "mylist.remove(\"hello\")"
   ]
  },
  {
   "cell_type": "code",
   "execution_count": 59,
   "id": "b8f118fe-b34a-4a19-b59c-abf556546ce5",
   "metadata": {},
   "outputs": [
    {
     "data": {
      "text/plain": [
       "[1, 2, 3]"
      ]
     },
     "execution_count": 59,
     "metadata": {},
     "output_type": "execute_result"
    }
   ],
   "source": [
    "mylist"
   ]
  },
  {
   "cell_type": "markdown",
   "id": "66c769f0-0924-497c-a1b6-54ba94ab73a5",
   "metadata": {},
   "source": [
    "### append method\n",
    "\n",
    "This method is used to add values inside list ,it adds the value at last position and increases the length of list."
   ]
  },
  {
   "cell_type": "code",
   "execution_count": 60,
   "id": "116a6c8a-d01e-47f4-9d37-4535b8403c29",
   "metadata": {},
   "outputs": [],
   "source": [
    "mylist.append(10)"
   ]
  },
  {
   "cell_type": "code",
   "execution_count": 61,
   "id": "41277a96-9e72-4450-8ce9-351b10c6b010",
   "metadata": {},
   "outputs": [
    {
     "data": {
      "text/plain": [
       "[1, 2, 3, 10]"
      ]
     },
     "execution_count": 61,
     "metadata": {},
     "output_type": "execute_result"
    }
   ],
   "source": [
    "mylist"
   ]
  },
  {
   "cell_type": "markdown",
   "id": "257cde82-cd11-4942-8f93-2dec4461d0c0",
   "metadata": {},
   "source": [
    "**inserting a value at a given index number by using insert method**"
   ]
  },
  {
   "cell_type": "markdown",
   "id": "70c39bd3-cc7d-4ff0-b38f-23cbcd1e2985",
   "metadata": {},
   "source": [
    "### Insert method"
   ]
  },
  {
   "cell_type": "code",
   "execution_count": 63,
   "id": "0394b551-bfd4-46cc-b50d-968a3d877187",
   "metadata": {},
   "outputs": [
    {
     "name": "stdout",
     "output_type": "stream",
     "text": [
      "Help on method_descriptor:\n",
      "\n",
      "insert(self, index, object, /)\n",
      "    Insert object before index.\n",
      "\n"
     ]
    }
   ],
   "source": [
    "help(list.insert)"
   ]
  },
  {
   "cell_type": "code",
   "execution_count": 64,
   "id": "4dd4c54a-026c-4928-a96c-376002b67f78",
   "metadata": {},
   "outputs": [
    {
     "data": {
      "text/plain": [
       "[1, 2, 3, 10]"
      ]
     },
     "execution_count": 64,
     "metadata": {},
     "output_type": "execute_result"
    }
   ],
   "source": [
    "mylist"
   ]
  },
  {
   "cell_type": "code",
   "execution_count": 65,
   "id": "2789764b-92f3-4da5-8b88-91893bef6b84",
   "metadata": {},
   "outputs": [],
   "source": [
    "mylist.append(\"Helli\")\n",
    "mylist.append(\"kello\")\n",
    "mylist.append(\"Jello\")"
   ]
  },
  {
   "cell_type": "code",
   "execution_count": 66,
   "id": "4a933ae4-d0b8-4ab8-8b48-12d97db6d246",
   "metadata": {},
   "outputs": [
    {
     "data": {
      "text/plain": [
       "[1, 2, 3, 10, 'Helli', 'kello', 'Jello']"
      ]
     },
     "execution_count": 66,
     "metadata": {},
     "output_type": "execute_result"
    }
   ],
   "source": [
    "mylist"
   ]
  },
  {
   "cell_type": "markdown",
   "id": "62c3d386-de36-46b8-8ef0-e21ed1c1b96f",
   "metadata": {},
   "source": [
    "`Note:` Now we want to add something else before 'Helli', in this case we will use `insert()` method, it takes two parameters, `'index'` and another is `'object'`."
   ]
  },
  {
   "cell_type": "code",
   "execution_count": 67,
   "id": "216be862-8d48-4735-84fc-624464b1d4a5",
   "metadata": {},
   "outputs": [],
   "source": [
    "mylist.insert(4, \"yellow\")"
   ]
  },
  {
   "cell_type": "code",
   "execution_count": 68,
   "id": "f9cc35ef-5f49-4acb-882d-5163f3d646cd",
   "metadata": {},
   "outputs": [
    {
     "data": {
      "text/plain": [
       "[1, 2, 3, 10, 'yellow', 'Helli', 'kello', 'Jello']"
      ]
     },
     "execution_count": 68,
     "metadata": {},
     "output_type": "execute_result"
    }
   ],
   "source": [
    "mylist"
   ]
  },
  {
   "cell_type": "code",
   "execution_count": 70,
   "id": "20854548-0d78-429c-9fb7-3557ba9b2900",
   "metadata": {},
   "outputs": [
    {
     "data": {
      "text/plain": [
       "8"
      ]
     },
     "execution_count": 70,
     "metadata": {},
     "output_type": "execute_result"
    }
   ],
   "source": [
    "len(mylist)"
   ]
  },
  {
   "cell_type": "markdown",
   "id": "8313dd3c-b264-4b9e-9b50-4bb2fbc70db8",
   "metadata": {},
   "source": [
    "### extent method"
   ]
  },
  {
   "cell_type": "code",
   "execution_count": 71,
   "id": "f7a3cc76-1370-45e6-b80c-abdd53cd4bf9",
   "metadata": {},
   "outputs": [
    {
     "name": "stdout",
     "output_type": "stream",
     "text": [
      "Help on method_descriptor:\n",
      "\n",
      "extend(self, iterable, /)\n",
      "    Extend list by appending elements from the iterable.\n",
      "\n"
     ]
    }
   ],
   "source": [
    "help(list.extend)"
   ]
  },
  {
   "cell_type": "markdown",
   "id": "da903fd9-7f40-4880-b131-3b09b2ccaf76",
   "metadata": {},
   "source": [
    "`iterable:` a sequence which is countable, non hashable, we can access element one by one after another. "
   ]
  },
  {
   "cell_type": "markdown",
   "id": "b9b23068-ea60-4006-ac94-135c94a71c45",
   "metadata": {},
   "source": [
    "**using append method on to add another list.**"
   ]
  },
  {
   "cell_type": "code",
   "execution_count": 72,
   "id": "7199b47b-efcd-408f-8aa7-d06761257643",
   "metadata": {},
   "outputs": [],
   "source": [
    "yourlist = ['Aasif', \"Chandan\", \"Aasish\"]"
   ]
  },
  {
   "cell_type": "code",
   "execution_count": 73,
   "id": "8cd169bc-f966-4288-a98b-31eb36635892",
   "metadata": {},
   "outputs": [
    {
     "data": {
      "text/plain": [
       "[1, 2, 3, 10, 'yellow', 'Helli', 'kello', 'Jello']"
      ]
     },
     "execution_count": 73,
     "metadata": {},
     "output_type": "execute_result"
    }
   ],
   "source": [
    "mylist"
   ]
  },
  {
   "cell_type": "code",
   "execution_count": 74,
   "id": "c2de445b-c067-4cdb-8e63-c50c9a8b7cdf",
   "metadata": {},
   "outputs": [],
   "source": [
    "# Now put yourlist  into mylist using append method.\n",
    "mylist.append(yourlist)"
   ]
  },
  {
   "cell_type": "code",
   "execution_count": 75,
   "id": "911c1af1-e59f-431f-8f44-0d53d8f0a097",
   "metadata": {},
   "outputs": [
    {
     "data": {
      "text/plain": [
       "[1,\n",
       " 2,\n",
       " 3,\n",
       " 10,\n",
       " 'yellow',\n",
       " 'Helli',\n",
       " 'kello',\n",
       " 'Jello',\n",
       " ['Aasif', 'Chandan', 'Aasish']]"
      ]
     },
     "execution_count": 75,
     "metadata": {},
     "output_type": "execute_result"
    }
   ],
   "source": [
    "mylist"
   ]
  },
  {
   "cell_type": "code",
   "execution_count": 76,
   "id": "128df7e0-ba96-4673-a02d-a1b1e3bbf7dd",
   "metadata": {},
   "outputs": [
    {
     "data": {
      "text/plain": [
       "9"
      ]
     },
     "execution_count": 76,
     "metadata": {},
     "output_type": "execute_result"
    }
   ],
   "source": [
    "# checking the lenght of list\n",
    "len(mylist)"
   ]
  },
  {
   "cell_type": "code",
   "execution_count": 77,
   "id": "81e02997-42c8-411c-b22a-115858cafbaa",
   "metadata": {},
   "outputs": [
    {
     "data": {
      "text/plain": [
       "['Aasif', 'Chandan', 'Aasish']"
      ]
     },
     "execution_count": 77,
     "metadata": {},
     "output_type": "execute_result"
    }
   ],
   "source": [
    "# Acessing the last element\n",
    "mylist[8]"
   ]
  },
  {
   "cell_type": "markdown",
   "id": "ae10980e-394d-45ec-b40d-c0f900f16b52",
   "metadata": {},
   "source": [
    "`Conclusion:` append method insert/add the object as it is. if any iterable given then it will not put each individual element form that iterable, it will put that iterable as it is, as a single value. "
   ]
  },
  {
   "cell_type": "markdown",
   "id": "abf26f72-0c24-4545-8b04-adb06fc4ca28",
   "metadata": {},
   "source": [
    "Now if we want to add an iterable object value in to our list as individual element we will use `extend()` method."
   ]
  },
  {
   "cell_type": "markdown",
   "id": "5e7c6929-f021-4581-bce7-67e6b2948dd8",
   "metadata": {},
   "source": [
    "**extend method**"
   ]
  },
  {
   "cell_type": "code",
   "execution_count": 78,
   "id": "b037f22b-cdd7-4c26-a6ca-7328eabce4c3",
   "metadata": {},
   "outputs": [
    {
     "data": {
      "text/plain": [
       "[1,\n",
       " 2,\n",
       " 3,\n",
       " 10,\n",
       " 'yellow',\n",
       " 'Helli',\n",
       " 'kello',\n",
       " 'Jello',\n",
       " ['Aasif', 'Chandan', 'Aasish']]"
      ]
     },
     "execution_count": 78,
     "metadata": {},
     "output_type": "execute_result"
    }
   ],
   "source": [
    "mylist"
   ]
  },
  {
   "cell_type": "code",
   "execution_count": 79,
   "id": "1f3d4cb9-f258-43e5-8413-83521505ecd7",
   "metadata": {},
   "outputs": [
    {
     "data": {
      "text/plain": [
       "['Aasif', 'Chandan', 'Aasish']"
      ]
     },
     "execution_count": 79,
     "metadata": {},
     "output_type": "execute_result"
    }
   ],
   "source": [
    "yourlist"
   ]
  },
  {
   "cell_type": "code",
   "execution_count": 80,
   "id": "acaf79e3-c315-4df9-8050-2101ad809f9e",
   "metadata": {},
   "outputs": [],
   "source": [
    "anotherList = [\"Hello\", \"Jello\", \"Kello\"]"
   ]
  },
  {
   "cell_type": "code",
   "execution_count": 81,
   "id": "8a1f7a6a-2622-4842-a664-07114c823ca8",
   "metadata": {},
   "outputs": [],
   "source": [
    "# Now we will extend 'yourlist' by 'anotherlist'\n",
    "yourlist.extend(anotherList)"
   ]
  },
  {
   "cell_type": "code",
   "execution_count": 82,
   "id": "24370e4c-b5d7-46b8-9d0a-1a20c0c7f5a3",
   "metadata": {},
   "outputs": [
    {
     "data": {
      "text/plain": [
       "['Aasif', 'Chandan', 'Aasish', 'Hello', 'Jello', 'Kello']"
      ]
     },
     "execution_count": 82,
     "metadata": {},
     "output_type": "execute_result"
    }
   ],
   "source": [
    "yourlist"
   ]
  },
  {
   "cell_type": "code",
   "execution_count": 83,
   "id": "21b30cca-0722-46ee-b39c-23d9eb93d753",
   "metadata": {},
   "outputs": [
    {
     "data": {
      "text/plain": [
       "6"
      ]
     },
     "execution_count": 83,
     "metadata": {},
     "output_type": "execute_result"
    }
   ],
   "source": [
    "len(yourlist)"
   ]
  },
  {
   "cell_type": "code",
   "execution_count": null,
   "id": "7cf09bb4-6176-4211-8b50-132c75b73284",
   "metadata": {},
   "outputs": [],
   "source": [
    "list."
   ]
  }
 ],
 "metadata": {
  "kernelspec": {
   "display_name": "Python 3 (ipykernel)",
   "language": "python",
   "name": "python3"
  },
  "language_info": {
   "codemirror_mode": {
    "name": "ipython",
    "version": 3
   },
   "file_extension": ".py",
   "mimetype": "text/x-python",
   "name": "python",
   "nbconvert_exporter": "python",
   "pygments_lexer": "ipython3",
   "version": "3.10.5"
  }
 },
 "nbformat": 4,
 "nbformat_minor": 5
}
