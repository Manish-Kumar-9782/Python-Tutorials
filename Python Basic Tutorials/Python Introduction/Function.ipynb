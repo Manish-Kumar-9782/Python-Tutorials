{
 "cells": [
  {
   "attachments": {},
   "cell_type": "markdown",
   "metadata": {},
   "source": [
    "# Functions in Python\n",
    "\n",
    "`Definition:` function is a block of statements in which we can define any kind of statement and any number of statements, this block is isolated from the outer world. Since it is isolated from the outer world, whenever it need some information from outside of this function, it use input parameters to hold the information from outer world and then use that information inside the function block.\n",
    "\n",
    "A function block is defined once and then it is executed again again by using the name of the function which is used to define the function.\n",
    "\n",
    "A Basic syntax for a function block.\n",
    "\n",
    "```python\n",
    "def <functionName>(parameters_list):\n",
    "    # statements\n",
    "\n",
    "    return value\n",
    "```\n",
    "\n",
    "Note: here `return` value is optional, and only used whenever we need to get some output from that function block.\n",
    "\n",
    "Now we will make simple function to greeting the user."
   ]
  },
  {
   "cell_type": "code",
   "execution_count": 5,
   "metadata": {},
   "outputs": [],
   "source": [
    "# now here we are defining the function.\n",
    "def greet():\n",
    "    # `def` is the keyword to define the function.\n",
    "    # `greet` is the name of the function\n",
    "    # () is the empty parameter_list, since we don't passing any value to greet() function.\n",
    "    print(\"Hello, world!\")\n",
    "    # this function contains only single statement\n",
    "    \n",
    "    # Note: no return value."
   ]
  },
  {
   "cell_type": "code",
   "execution_count": 4,
   "metadata": {},
   "outputs": [
    {
     "name": "stdout",
     "output_type": "stream",
     "text": [
      "Hello, world!\n"
     ]
    }
   ],
   "source": [
    "# calling the greet() function.\n",
    "\n",
    "# Note: whenever we call the function we need to use the function name which is going to be called with () parameter_list, even it is empty.\n",
    "greet()"
   ]
  },
  {
   "attachments": {},
   "cell_type": "markdown",
   "metadata": {},
   "source": [
    "Note: we can use this function again and again, from this we will get the same result as we would have after writing all of the statements manually which is defined inside the function block. \n",
    "\n",
    "This facility increase the reusability and error free codes."
   ]
  },
  {
   "attachments": {},
   "cell_type": "markdown",
   "metadata": {},
   "source": [
    "## A function with some parameters\n",
    "\n",
    "`Example`: For example we want to add two values, these values can be any integer or float, which is will not be defined during the definition of the function. Since all of the values will be passed from outside of the function, \n",
    "in that case we need to use parameters. "
   ]
  },
  {
   "cell_type": "code",
   "execution_count": 15,
   "metadata": {},
   "outputs": [],
   "source": [
    "def sum(a,b):\n",
    "    \"\"\" To get the sum of two values.\n",
    "\n",
    "    Args:\n",
    "        a (int or float): It must be a integer or float value.\n",
    "        b (int or float): It must be a integer or float value.\n",
    "    \"\"\"\n",
    "    print(\"Sum: \", a+b); "
   ]
  },
  {
   "cell_type": "code",
   "execution_count": 16,
   "metadata": {},
   "outputs": [
    {
     "name": "stdout",
     "output_type": "stream",
     "text": [
      "Sum:  30\n"
     ]
    }
   ],
   "source": [
    "sum(10, 20)"
   ]
  },
  {
   "cell_type": "code",
   "execution_count": 17,
   "metadata": {},
   "outputs": [
    {
     "name": "stdout",
     "output_type": "stream",
     "text": [
      "Sum:  100\n"
     ]
    }
   ],
   "source": [
    "sum(a=40, b = 60)"
   ]
  },
  {
   "cell_type": "code",
   "execution_count": 18,
   "metadata": {},
   "outputs": [
    {
     "name": "stdout",
     "output_type": "stream",
     "text": [
      "Sum:  43.44\n"
     ]
    }
   ],
   "source": [
    "sum(a = 40.30, b = 3.14)"
   ]
  },
  {
   "cell_type": "code",
   "execution_count": 19,
   "metadata": {},
   "outputs": [
    {
     "ename": "TypeError",
     "evalue": "unsupported operand type(s) for +: 'int' and 'str'",
     "output_type": "error",
     "traceback": [
      "\u001b[1;31m---------------------------------------------------------------------------\u001b[0m",
      "\u001b[1;31mTypeError\u001b[0m                                 Traceback (most recent call last)",
      "\u001b[1;32mg:\\WorkData\\Programming\\Python\\Python Tutorial\\Python Basic Tutorials\\Python Introduction\\Function.ipynb Cell 10\u001b[0m in \u001b[0;36m2\n\u001b[0;32m      <a href='vscode-notebook-cell:/g%3A/WorkData/Programming/Python/Python%20Tutorial/Python%20Basic%20Tutorials/Python%20Introduction/Function.ipynb#X21sZmlsZQ%3D%3D?line=0'>1</a>\u001b[0m \u001b[39m# Now we pass a as integer and b as a string\u001b[39;00m\n\u001b[1;32m----> <a href='vscode-notebook-cell:/g%3A/WorkData/Programming/Python/Python%20Tutorial/Python%20Basic%20Tutorials/Python%20Introduction/Function.ipynb#X21sZmlsZQ%3D%3D?line=1'>2</a>\u001b[0m \u001b[39msum\u001b[39;49m(a\u001b[39m=\u001b[39;49m\u001b[39m10\u001b[39;49m, b\u001b[39m=\u001b[39;49m\u001b[39m'\u001b[39;49m\u001b[39mhello\u001b[39;49m\u001b[39m'\u001b[39;49m)\n",
      "\u001b[1;32mg:\\WorkData\\Programming\\Python\\Python Tutorial\\Python Basic Tutorials\\Python Introduction\\Function.ipynb Cell 10\u001b[0m in \u001b[0;36m8\n\u001b[0;32m      <a href='vscode-notebook-cell:/g%3A/WorkData/Programming/Python/Python%20Tutorial/Python%20Basic%20Tutorials/Python%20Introduction/Function.ipynb#X21sZmlsZQ%3D%3D?line=0'>1</a>\u001b[0m \u001b[39mdef\u001b[39;00m \u001b[39msum\u001b[39m(a,b):\n\u001b[0;32m      <a href='vscode-notebook-cell:/g%3A/WorkData/Programming/Python/Python%20Tutorial/Python%20Basic%20Tutorials/Python%20Introduction/Function.ipynb#X21sZmlsZQ%3D%3D?line=1'>2</a>\u001b[0m     \u001b[39m\"\"\" To get the sum of two values.\u001b[39;00m\n\u001b[0;32m      <a href='vscode-notebook-cell:/g%3A/WorkData/Programming/Python/Python%20Tutorial/Python%20Basic%20Tutorials/Python%20Introduction/Function.ipynb#X21sZmlsZQ%3D%3D?line=2'>3</a>\u001b[0m \n\u001b[0;32m      <a href='vscode-notebook-cell:/g%3A/WorkData/Programming/Python/Python%20Tutorial/Python%20Basic%20Tutorials/Python%20Introduction/Function.ipynb#X21sZmlsZQ%3D%3D?line=3'>4</a>\u001b[0m \u001b[39m    Args:\u001b[39;00m\n\u001b[0;32m      <a href='vscode-notebook-cell:/g%3A/WorkData/Programming/Python/Python%20Tutorial/Python%20Basic%20Tutorials/Python%20Introduction/Function.ipynb#X21sZmlsZQ%3D%3D?line=4'>5</a>\u001b[0m \u001b[39m        a (int or float): It must be a integer or float value.\u001b[39;00m\n\u001b[0;32m      <a href='vscode-notebook-cell:/g%3A/WorkData/Programming/Python/Python%20Tutorial/Python%20Basic%20Tutorials/Python%20Introduction/Function.ipynb#X21sZmlsZQ%3D%3D?line=5'>6</a>\u001b[0m \u001b[39m        b (int or float): It must be a integer or float value.\u001b[39;00m\n\u001b[0;32m      <a href='vscode-notebook-cell:/g%3A/WorkData/Programming/Python/Python%20Tutorial/Python%20Basic%20Tutorials/Python%20Introduction/Function.ipynb#X21sZmlsZQ%3D%3D?line=6'>7</a>\u001b[0m \u001b[39m    \"\"\"\u001b[39;00m\n\u001b[1;32m----> <a href='vscode-notebook-cell:/g%3A/WorkData/Programming/Python/Python%20Tutorial/Python%20Basic%20Tutorials/Python%20Introduction/Function.ipynb#X21sZmlsZQ%3D%3D?line=7'>8</a>\u001b[0m     \u001b[39mprint\u001b[39m(\u001b[39m\"\u001b[39m\u001b[39mSum: \u001b[39m\u001b[39m\"\u001b[39m, a\u001b[39m+\u001b[39;49mb)\n",
      "\u001b[1;31mTypeError\u001b[0m: unsupported operand type(s) for +: 'int' and 'str'"
     ]
    }
   ],
   "source": [
    "# Now we pass a as integer and b as a string\n",
    "sum(a=10, b='hello')"
   ]
  },
  {
   "attachments": {},
   "cell_type": "markdown",
   "metadata": {},
   "source": [
    "`TypeError:` join() argument must be str, bytes, or os.PathLike object, not 'WSGIRequest'"
   ]
  },
  {
   "attachments": {},
   "cell_type": "markdown",
   "metadata": {},
   "source": [
    "Note: in this case, if we don't know that what kind of data we can pass inside a function, this kind of error may occur. (This is a very common error.)"
   ]
  },
  {
   "cell_type": "code",
   "execution_count": 21,
   "metadata": {},
   "outputs": [
    {
     "ename": "SyntaxError",
     "evalue": "Missing parentheses in call to 'print'. Did you mean print(...)? (2253489653.py, line 1)",
     "output_type": "error",
     "traceback": [
      "\u001b[1;36m  Cell \u001b[1;32mIn [21], line 1\u001b[1;36m\u001b[0m\n\u001b[1;33m    print \"hello\"\u001b[0m\n\u001b[1;37m    ^\u001b[0m\n\u001b[1;31mSyntaxError\u001b[0m\u001b[1;31m:\u001b[0m Missing parentheses in call to 'print'. Did you mean print(...)?\n"
     ]
    }
   ],
   "source": [
    "print \"hello\""
   ]
  },
  {
   "cell_type": "code",
   "execution_count": null,
   "metadata": {},
   "outputs": [],
   "source": []
  }
 ],
 "metadata": {
  "kernelspec": {
   "display_name": "Python 3",
   "language": "python",
   "name": "python3"
  },
  "language_info": {
   "codemirror_mode": {
    "name": "ipython",
    "version": 3
   },
   "file_extension": ".py",
   "mimetype": "text/x-python",
   "name": "python",
   "nbconvert_exporter": "python",
   "pygments_lexer": "ipython3",
   "version": "3.10.5"
  },
  "orig_nbformat": 4
 },
 "nbformat": 4,
 "nbformat_minor": 2
}
