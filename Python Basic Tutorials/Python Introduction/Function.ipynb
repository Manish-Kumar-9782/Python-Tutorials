{
 "cells": [
  {
   "attachments": {},
   "cell_type": "markdown",
   "metadata": {},
   "source": [
    "# Functions in Python\n",
    "\n",
    "`Definition:` function is a block of statements in which we can define any kind of statement and any number of statements, this block is isolated (not completely) from the outer world. Since it is isolated from the outer world, whenever it need some information from outside of this function, it use input parameters to hold the information from outer world and then use that information inside the function block.\n",
    "\n",
    "A function block is defined once and then it is executed again again by using the name of the function which is used to define the function.\n",
    "\n",
    "A Basic syntax for a function block.\n",
    "\n",
    "```python\n",
    "def <functionName>(parameters_list):\n",
    "    # statements\n",
    "\n",
    "    return value\n",
    "```\n",
    "\n",
    "Note: here `return` value is optional, and only used whenever we need to get some output from that function block.\n",
    "\n",
    "Now we will make simple function to greeting the user."
   ]
  },
  {
   "cell_type": "code",
   "execution_count": 3,
   "metadata": {},
   "outputs": [],
   "source": [
    "# now here we are defining the function.\n",
    "def greet():\n",
    "    # `def` is the keyword to define the function.\n",
    "    # `greet` is the name of the function\n",
    "    # () is the empty parameter_list, since we don't passing any value to greet() function.\n",
    "    print(\"Hello, world! again\")\n",
    "    # this function contains only single statement\n",
    "    \n",
    "    # Note: no return value."
   ]
  },
  {
   "cell_type": "code",
   "execution_count": 4,
   "metadata": {},
   "outputs": [
    {
     "name": "stdout",
     "output_type": "stream",
     "text": [
      "Hello, world! again\n"
     ]
    }
   ],
   "source": [
    "# calling the greet() function.\n",
    "\n",
    "# Note: whenever we call the function we need to use the function name which is going to be called with () parameter_list, even it is empty.\n",
    "greet()"
   ]
  },
  {
   "attachments": {},
   "cell_type": "markdown",
   "metadata": {},
   "source": [
    "Note: we can use this function again and again, from this we will get the same result as we would have after writing all of the statements manually which is defined inside the function block. \n",
    "\n",
    "This facility increase the reusability and error free codes."
   ]
  },
  {
   "attachments": {},
   "cell_type": "markdown",
   "metadata": {},
   "source": [
    "## A function with some parameters\n",
    "\n",
    "`Example`: For example we want to add two values, these values can be any integer or float, which is will not be defined during the definition of the function. Since all of the values will be passed from outside of the function, \n",
    "in that case we need to use parameters. "
   ]
  },
  {
   "cell_type": "code",
   "execution_count": 5,
   "metadata": {},
   "outputs": [],
   "source": [
    "def sum(a,b):\n",
    "    \"\"\" To get the sum of two values.\n",
    "\n",
    "    Args:\n",
    "        a (int or float): It must be a integer or float value.\n",
    "        b (int or float): It must be a integer or float value.\n",
    "    \"\"\"\n",
    "    print(\"Sum: \", a+b); "
   ]
  },
  {
   "cell_type": "code",
   "execution_count": 6,
   "metadata": {},
   "outputs": [
    {
     "name": "stdout",
     "output_type": "stream",
     "text": [
      "Sum:  30\n"
     ]
    }
   ],
   "source": [
    "sum(10, 20)"
   ]
  },
  {
   "cell_type": "code",
   "execution_count": 7,
   "metadata": {},
   "outputs": [
    {
     "name": "stdout",
     "output_type": "stream",
     "text": [
      "Sum:  100\n"
     ]
    }
   ],
   "source": [
    "sum(a=40, b = 60)"
   ]
  },
  {
   "cell_type": "code",
   "execution_count": 8,
   "metadata": {},
   "outputs": [
    {
     "name": "stdout",
     "output_type": "stream",
     "text": [
      "Sum:  43.44\n"
     ]
    }
   ],
   "source": [
    "sum(a = 40.30, b = 3.14)"
   ]
  },
  {
   "cell_type": "code",
   "execution_count": 19,
   "metadata": {},
   "outputs": [
    {
     "ename": "TypeError",
     "evalue": "unsupported operand type(s) for +: 'int' and 'str'",
     "output_type": "error",
     "traceback": [
      "\u001b[1;31m---------------------------------------------------------------------------\u001b[0m",
      "\u001b[1;31mTypeError\u001b[0m                                 Traceback (most recent call last)",
      "\u001b[1;32mg:\\WorkData\\Programming\\Python\\Python Tutorial\\Python Basic Tutorials\\Python Introduction\\Function.ipynb Cell 10\u001b[0m in \u001b[0;36m2\n\u001b[0;32m      <a href='vscode-notebook-cell:/g%3A/WorkData/Programming/Python/Python%20Tutorial/Python%20Basic%20Tutorials/Python%20Introduction/Function.ipynb#X21sZmlsZQ%3D%3D?line=0'>1</a>\u001b[0m \u001b[39m# Now we pass a as integer and b as a string\u001b[39;00m\n\u001b[1;32m----> <a href='vscode-notebook-cell:/g%3A/WorkData/Programming/Python/Python%20Tutorial/Python%20Basic%20Tutorials/Python%20Introduction/Function.ipynb#X21sZmlsZQ%3D%3D?line=1'>2</a>\u001b[0m \u001b[39msum\u001b[39;49m(a\u001b[39m=\u001b[39;49m\u001b[39m10\u001b[39;49m, b\u001b[39m=\u001b[39;49m\u001b[39m'\u001b[39;49m\u001b[39mhello\u001b[39;49m\u001b[39m'\u001b[39;49m)\n",
      "\u001b[1;32mg:\\WorkData\\Programming\\Python\\Python Tutorial\\Python Basic Tutorials\\Python Introduction\\Function.ipynb Cell 10\u001b[0m in \u001b[0;36m8\n\u001b[0;32m      <a href='vscode-notebook-cell:/g%3A/WorkData/Programming/Python/Python%20Tutorial/Python%20Basic%20Tutorials/Python%20Introduction/Function.ipynb#X21sZmlsZQ%3D%3D?line=0'>1</a>\u001b[0m \u001b[39mdef\u001b[39;00m \u001b[39msum\u001b[39m(a,b):\n\u001b[0;32m      <a href='vscode-notebook-cell:/g%3A/WorkData/Programming/Python/Python%20Tutorial/Python%20Basic%20Tutorials/Python%20Introduction/Function.ipynb#X21sZmlsZQ%3D%3D?line=1'>2</a>\u001b[0m     \u001b[39m\"\"\" To get the sum of two values.\u001b[39;00m\n\u001b[0;32m      <a href='vscode-notebook-cell:/g%3A/WorkData/Programming/Python/Python%20Tutorial/Python%20Basic%20Tutorials/Python%20Introduction/Function.ipynb#X21sZmlsZQ%3D%3D?line=2'>3</a>\u001b[0m \n\u001b[0;32m      <a href='vscode-notebook-cell:/g%3A/WorkData/Programming/Python/Python%20Tutorial/Python%20Basic%20Tutorials/Python%20Introduction/Function.ipynb#X21sZmlsZQ%3D%3D?line=3'>4</a>\u001b[0m \u001b[39m    Args:\u001b[39;00m\n\u001b[0;32m      <a href='vscode-notebook-cell:/g%3A/WorkData/Programming/Python/Python%20Tutorial/Python%20Basic%20Tutorials/Python%20Introduction/Function.ipynb#X21sZmlsZQ%3D%3D?line=4'>5</a>\u001b[0m \u001b[39m        a (int or float): It must be a integer or float value.\u001b[39;00m\n\u001b[0;32m      <a href='vscode-notebook-cell:/g%3A/WorkData/Programming/Python/Python%20Tutorial/Python%20Basic%20Tutorials/Python%20Introduction/Function.ipynb#X21sZmlsZQ%3D%3D?line=5'>6</a>\u001b[0m \u001b[39m        b (int or float): It must be a integer or float value.\u001b[39;00m\n\u001b[0;32m      <a href='vscode-notebook-cell:/g%3A/WorkData/Programming/Python/Python%20Tutorial/Python%20Basic%20Tutorials/Python%20Introduction/Function.ipynb#X21sZmlsZQ%3D%3D?line=6'>7</a>\u001b[0m \u001b[39m    \"\"\"\u001b[39;00m\n\u001b[1;32m----> <a href='vscode-notebook-cell:/g%3A/WorkData/Programming/Python/Python%20Tutorial/Python%20Basic%20Tutorials/Python%20Introduction/Function.ipynb#X21sZmlsZQ%3D%3D?line=7'>8</a>\u001b[0m     \u001b[39mprint\u001b[39m(\u001b[39m\"\u001b[39m\u001b[39mSum: \u001b[39m\u001b[39m\"\u001b[39m, a\u001b[39m+\u001b[39;49mb)\n",
      "\u001b[1;31mTypeError\u001b[0m: unsupported operand type(s) for +: 'int' and 'str'"
     ]
    }
   ],
   "source": [
    "# Now we pass a as integer and b as a string\n",
    "sum(a=10, b='hello')"
   ]
  },
  {
   "attachments": {},
   "cell_type": "markdown",
   "metadata": {},
   "source": [
    "`TypeError:` join() argument must be str, bytes, or os.PathLike object, not 'WSGIRequest'"
   ]
  },
  {
   "attachments": {},
   "cell_type": "markdown",
   "metadata": {},
   "source": [
    "Note: in this case, if we don't know that what kind of data we can pass inside a function, this kind of error may occur. (This is a very common error.)"
   ]
  },
  {
   "attachments": {},
   "cell_type": "markdown",
   "metadata": {},
   "source": [
    "# Positional Arguments\n",
    "\n",
    "Positional Arguments: Positional Arguments are those argument which is passed in a sequence of arguments to the parameter list of the function. \n",
    "\n",
    "Positional Argument can be required or optional argument. \n",
    "\n",
    "Required Argument: if any parameter is not specified with default value, this value of this parameter will be required.\n",
    "\n",
    "Optional Argument: if any parameter is specified with default value then this argument is optional argument."
   ]
  },
  {
   "cell_type": "code",
   "execution_count": 10,
   "metadata": {},
   "outputs": [],
   "source": [
    "# function with two positional arguments.\n",
    "def greet(name, age):\n",
    "    \n",
    "    print(f\"Hello, my name is {name}, and i am {age} years old.\")"
   ]
  },
  {
   "cell_type": "code",
   "execution_count": 11,
   "metadata": {},
   "outputs": [
    {
     "name": "stdout",
     "output_type": "stream",
     "text": [
      "Hello, my name is Asif, and i am 20 years old.\n"
     ]
    }
   ],
   "source": [
    "greet(\"Asif\", 20)"
   ]
  },
  {
   "cell_type": "code",
   "execution_count": 12,
   "metadata": {},
   "outputs": [
    {
     "name": "stdout",
     "output_type": "stream",
     "text": [
      "Hello, my name is 30, and i am Assif years old.\n"
     ]
    }
   ],
   "source": [
    "# if we change the order\n",
    "greet(30, \"Assif\")"
   ]
  },
  {
   "attachments": {},
   "cell_type": "markdown",
   "metadata": {},
   "source": [
    "**Default Argument**"
   ]
  },
  {
   "cell_type": "code",
   "execution_count": 13,
   "metadata": {},
   "outputs": [],
   "source": [
    "# function with with one optional argument\n",
    "def greet(name, age=18):\n",
    "    \n",
    "    print(f\"Hello, my name is {name}, and i am {age} years old.\")\n",
    "    \n",
    "# Now in this we have age as optional argument."
   ]
  },
  {
   "cell_type": "code",
   "execution_count": 14,
   "metadata": {},
   "outputs": [
    {
     "name": "stdout",
     "output_type": "stream",
     "text": [
      "Hello, my name is Asif, and i am 18 years old.\n"
     ]
    }
   ],
   "source": [
    "greet(\"Asif\")"
   ]
  },
  {
   "cell_type": "code",
   "execution_count": 16,
   "metadata": {},
   "outputs": [
    {
     "ename": "TypeError",
     "evalue": "greet() missing 1 required positional argument: 'name'",
     "output_type": "error",
     "traceback": [
      "\u001b[1;31m---------------------------------------------------------------------------\u001b[0m",
      "\u001b[1;31mTypeError\u001b[0m                                 Traceback (most recent call last)",
      "\u001b[1;32mg:\\WorkData\\Programming\\Python\\Python Tutorial\\Python Basic Tutorials\\Python Introduction\\Function.ipynb Cell 20\u001b[0m in \u001b[0;36m3\n\u001b[0;32m      <a href='vscode-notebook-cell:/g%3A/WorkData/Programming/Python/Python%20Tutorial/Python%20Basic%20Tutorials/Python%20Introduction/Function.ipynb#Y106sZmlsZQ%3D%3D?line=0'>1</a>\u001b[0m \u001b[39m# if we don't pass the name which is not a default or optional argument,\u001b[39;00m\n\u001b[0;32m      <a href='vscode-notebook-cell:/g%3A/WorkData/Programming/Python/Python%20Tutorial/Python%20Basic%20Tutorials/Python%20Introduction/Function.ipynb#Y106sZmlsZQ%3D%3D?line=1'>2</a>\u001b[0m \u001b[39m# then we will get error.\u001b[39;00m\n\u001b[1;32m----> <a href='vscode-notebook-cell:/g%3A/WorkData/Programming/Python/Python%20Tutorial/Python%20Basic%20Tutorials/Python%20Introduction/Function.ipynb#Y106sZmlsZQ%3D%3D?line=2'>3</a>\u001b[0m greet()\n",
      "\u001b[1;31mTypeError\u001b[0m: greet() missing 1 required positional argument: 'name'"
     ]
    }
   ],
   "source": [
    "# if we don't pass the name which is not a default or optional argument,\n",
    "# then we will get error.\n",
    "greet()"
   ]
  },
  {
   "cell_type": "code",
   "execution_count": 17,
   "metadata": {},
   "outputs": [
    {
     "name": "stdout",
     "output_type": "stream",
     "text": [
      "Hello, my name is Chandan, and i am 21 years old.\n"
     ]
    }
   ],
   "source": [
    "greet(\"Chandan\", 21)"
   ]
  },
  {
   "attachments": {},
   "cell_type": "markdown",
   "metadata": {},
   "source": [
    "In this case, since we have defined age as 18, where 18 is the default value of age argument. if we don't pass any age value then it will take the default value of age argument."
   ]
  },
  {
   "attachments": {},
   "cell_type": "markdown",
   "metadata": {},
   "source": [
    "## Accessing the Positional Arguments by name of parameters\n",
    "\n",
    "if we have multiple positional argument and we pass those value by using their name then we don't need to follow the given positional arguments sequence."
   ]
  },
  {
   "cell_type": "code",
   "execution_count": 19,
   "metadata": {},
   "outputs": [],
   "source": [
    "def show_info(name, age, height, bloodGroup):\n",
    "    \n",
    "    print(\"Name :\", name)\n",
    "    print(\"Age :\", age)\n",
    "    print(\"Height :\", height)\n",
    "    print(\"BloodGroup :\", bloodGroup)"
   ]
  },
  {
   "attachments": {},
   "cell_type": "markdown",
   "metadata": {},
   "source": [
    "**Passing All Values by naming with it's identifier in random order**"
   ]
  },
  {
   "cell_type": "code",
   "execution_count": 20,
   "metadata": {},
   "outputs": [
    {
     "name": "stdout",
     "output_type": "stream",
     "text": [
      "Name : asif\n",
      "Age : 20\n",
      "Height : 5.6\n",
      "BloodGroup : B+\n"
     ]
    }
   ],
   "source": [
    "show_info(age=20, name='asif', bloodGroup='B+', height=5.6)"
   ]
  },
  {
   "attachments": {},
   "cell_type": "markdown",
   "metadata": {},
   "source": [
    "Note: in above case as we can see that if pass all the required parameters in random order but with specified parameter name, then all the parameters will take it's value without following the  parameters list sequence.\n",
    "\n",
    "**Passing few argument without it's identifier parameter in random order**"
   ]
  },
  {
   "cell_type": "code",
   "execution_count": 12,
   "metadata": {},
   "outputs": [
    {
     "ename": "SyntaxError",
     "evalue": "positional argument follows keyword argument (2072858675.py, line 1)",
     "output_type": "error",
     "traceback": [
      "\u001b[1;36m  Cell \u001b[1;32mIn [12], line 1\u001b[1;36m\u001b[0m\n\u001b[1;33m    show_info(age=20, 'asif', bloodGroup='B+', height=5.6)\u001b[0m\n\u001b[1;37m                                                         ^\u001b[0m\n\u001b[1;31mSyntaxError\u001b[0m\u001b[1;31m:\u001b[0m positional argument follows keyword argument\n"
     ]
    }
   ],
   "source": [
    "show_info(age=20, 'asif', bloodGroup='B+', height=5.6)"
   ]
  },
  {
   "attachments": {},
   "cell_type": "markdown",
   "metadata": {},
   "source": [
    "Note: In above case if any value is not passed with it's specified parameter identifier then it should comes before all the positional arguments which are passed with it's specified parameter identifier.\n",
    "\n",
    "Note 2: if all arguments which are not passed with it's specified parameter identifier comes first before all the positional arguments which are passed with it's specified parameter identifier, in this case all passed argument (without the specified parameter identifier) will be taken in their defined order."
   ]
  },
  {
   "cell_type": "code",
   "execution_count": 14,
   "metadata": {},
   "outputs": [
    {
     "name": "stdout",
     "output_type": "stream",
     "text": [
      "Name : asif\n",
      "Age : 20\n",
      "Height : 5.6\n",
      "BloodGroup : B+\n"
     ]
    }
   ],
   "source": [
    "\n",
    "show_info('asif', bloodGroup='B+', age=20, height=5.6)"
   ]
  },
  {
   "cell_type": "code",
   "execution_count": null,
   "metadata": {},
   "outputs": [],
   "source": [
    "    "
   ]
  },
  {
   "attachments": {},
   "cell_type": "markdown",
   "metadata": {},
   "source": [
    "## *args and **kwargs\n",
    "\n",
    "`*args:` a list of arguments\n",
    "\n",
    "`**kwargs:` a dict of keyword arguments, a dictionary of keyword arguments"
   ]
  },
  {
   "cell_type": "code",
   "execution_count": 1,
   "metadata": {},
   "outputs": [],
   "source": [
    "def func(*args):\n",
    "    \n",
    "    print(args)"
   ]
  },
  {
   "cell_type": "code",
   "execution_count": 2,
   "metadata": {},
   "outputs": [
    {
     "name": "stdout",
     "output_type": "stream",
     "text": [
      "('manish', 21, 3.14)\n"
     ]
    }
   ],
   "source": [
    "func(\"manish\", 21, 3.14)"
   ]
  },
  {
   "cell_type": "code",
   "execution_count": 4,
   "metadata": {},
   "outputs": [
    {
     "ename": "TypeError",
     "evalue": "func() got an unexpected keyword argument 'name'",
     "output_type": "error",
     "traceback": [
      "\u001b[1;31m---------------------------------------------------------------------------\u001b[0m",
      "\u001b[1;31mTypeError\u001b[0m                                 Traceback (most recent call last)",
      "\u001b[1;32mg:\\WorkData\\Programming\\Python\\Python Tutorial\\Python Basic Tutorials\\Python Introduction\\Function.ipynb Cell 32\u001b[0m in \u001b[0;36m1\n\u001b[1;32m----> <a href='vscode-notebook-cell:/g%3A/WorkData/Programming/Python/Python%20Tutorial/Python%20Basic%20Tutorials/Python%20Introduction/Function.ipynb#X44sZmlsZQ%3D%3D?line=0'>1</a>\u001b[0m func(name\u001b[39m=\u001b[39;49m\u001b[39m\"\u001b[39;49m\u001b[39mmanish\u001b[39;49m\u001b[39m\"\u001b[39;49m, age\u001b[39m=\u001b[39;49m\u001b[39m21\u001b[39;49m)\n",
      "\u001b[1;31mTypeError\u001b[0m: func() got an unexpected keyword argument 'name'"
     ]
    }
   ],
   "source": [
    "func(name=\"manish\", age=21)"
   ]
  },
  {
   "cell_type": "code",
   "execution_count": 5,
   "metadata": {},
   "outputs": [],
   "source": [
    "def func2(**kwargs):\n",
    "    print(kwargs)"
   ]
  },
  {
   "cell_type": "code",
   "execution_count": 6,
   "metadata": {},
   "outputs": [
    {
     "name": "stdout",
     "output_type": "stream",
     "text": [
      "{'name': 'Manish', 'age': 21}\n"
     ]
    }
   ],
   "source": [
    "func2(name=\"Manish\", age=21)"
   ]
  },
  {
   "cell_type": "code",
   "execution_count": 7,
   "metadata": {},
   "outputs": [
    {
     "ename": "TypeError",
     "evalue": "func2() takes 0 positional arguments but 2 were given",
     "output_type": "error",
     "traceback": [
      "\u001b[1;31m---------------------------------------------------------------------------\u001b[0m",
      "\u001b[1;31mTypeError\u001b[0m                                 Traceback (most recent call last)",
      "\u001b[1;32mg:\\WorkData\\Programming\\Python\\Python Tutorial\\Python Basic Tutorials\\Python Introduction\\Function.ipynb Cell 35\u001b[0m in \u001b[0;36m1\n\u001b[1;32m----> <a href='vscode-notebook-cell:/g%3A/WorkData/Programming/Python/Python%20Tutorial/Python%20Basic%20Tutorials/Python%20Introduction/Function.ipynb#X50sZmlsZQ%3D%3D?line=0'>1</a>\u001b[0m func2(\u001b[39m\"\u001b[39;49m\u001b[39mmanish\u001b[39;49m\u001b[39m\"\u001b[39;49m, \u001b[39m21\u001b[39;49m, name\u001b[39m=\u001b[39;49m\u001b[39m\"\u001b[39;49m\u001b[39masif\u001b[39;49m\u001b[39m\"\u001b[39;49m, age\u001b[39m=\u001b[39;49m\u001b[39m\"\u001b[39;49m\u001b[39m18\u001b[39;49m\u001b[39m\"\u001b[39;49m)\n",
      "\u001b[1;31mTypeError\u001b[0m: func2() takes 0 positional arguments but 2 were given"
     ]
    }
   ],
   "source": [
    "func2(\"manish\", 21, name=\"asif\", age=\"18\")"
   ]
  },
  {
   "cell_type": "code",
   "execution_count": 8,
   "metadata": {},
   "outputs": [],
   "source": [
    "def func3(*args, **kwargs):\n",
    "    print(args)\n",
    "    print(kwargs)"
   ]
  },
  {
   "cell_type": "code",
   "execution_count": 9,
   "metadata": {},
   "outputs": [
    {
     "name": "stdout",
     "output_type": "stream",
     "text": [
      "('manish', 21)\n",
      "{'name': 'asif', 'age': '18'}\n"
     ]
    }
   ],
   "source": [
    "func3(\"manish\", 21, name=\"asif\", age=\"18\")"
   ]
  },
  {
   "cell_type": "code",
   "execution_count": 10,
   "metadata": {},
   "outputs": [
    {
     "ename": "SyntaxError",
     "evalue": "positional argument follows keyword argument (3824863564.py, line 1)",
     "output_type": "error",
     "traceback": [
      "\u001b[1;36m  Cell \u001b[1;32mIn [10], line 1\u001b[1;36m\u001b[0m\n\u001b[1;33m    func3(\"manish\", name=\"asif\", 21, age=\"18\")\u001b[0m\n\u001b[1;37m                                             ^\u001b[0m\n\u001b[1;31mSyntaxError\u001b[0m\u001b[1;31m:\u001b[0m positional argument follows keyword argument\n"
     ]
    }
   ],
   "source": [
    "func3(\"manish\", name=\"asif\", 21, age=\"18\")"
   ]
  },
  {
   "cell_type": "code",
   "execution_count": 11,
   "metadata": {},
   "outputs": [
    {
     "ename": "SyntaxError",
     "evalue": "invalid syntax (617849098.py, line 1)",
     "output_type": "error",
     "traceback": [
      "\u001b[1;36m  Cell \u001b[1;32mIn [11], line 1\u001b[1;36m\u001b[0m\n\u001b[1;33m    def func4(**kwargs, *args):\u001b[0m\n\u001b[1;37m                        ^\u001b[0m\n\u001b[1;31mSyntaxError\u001b[0m\u001b[1;31m:\u001b[0m invalid syntax\n"
     ]
    }
   ],
   "source": [
    "def func4(**kwargs, *args):\n",
    "    print(kwargs)\n",
    "    print(args)"
   ]
  },
  {
   "cell_type": "code",
   "execution_count": 17,
   "metadata": {},
   "outputs": [],
   "source": [
    "def student(**kwargs):\n",
    "    \n",
    "    keys = [\"name\", 'age', 'height', 'bloodGroup']\n",
    "    \n",
    "    for key in kwargs.keys():\n",
    "        if key not in keys:\n",
    "            raise KeyError(f\"{key} is not a valid keyword\")\n",
    "        \n",
    "    print(kwargs)"
   ]
  },
  {
   "cell_type": "code",
   "execution_count": 18,
   "metadata": {},
   "outputs": [
    {
     "name": "stdout",
     "output_type": "stream",
     "text": [
      "{'name': 'manish', 'age': 21}\n"
     ]
    }
   ],
   "source": [
    "student(name=\"manish\", age=21)"
   ]
  },
  {
   "attachments": {},
   "cell_type": "markdown",
   "metadata": {},
   "source": [
    "# Tuples\n",
    "\n",
    "```python\n",
    "tup = (value1, value2, ..., valueN)\n",
    "```"
   ]
  },
  {
   "cell_type": "code",
   "execution_count": 19,
   "metadata": {},
   "outputs": [],
   "source": [
    "tup = (\"manish\", 21, 5.6 , 'B+')"
   ]
  },
  {
   "cell_type": "code",
   "execution_count": 21,
   "metadata": {},
   "outputs": [
    {
     "name": "stdout",
     "output_type": "stream",
     "text": [
      "Help on class tuple in module builtins:\n",
      "\n",
      "class tuple(object)\n",
      " |  tuple(iterable=(), /)\n",
      " |  \n",
      " |  Built-in immutable sequence.\n",
      " |  \n",
      " |  If no argument is given, the constructor returns an empty tuple.\n",
      " |  If iterable is specified the tuple is initialized from iterable's items.\n",
      " |  \n",
      " |  If the argument is a tuple, the return value is the same object.\n",
      " |  \n",
      " |  Built-in subclasses:\n",
      " |      asyncgen_hooks\n",
      " |      UnraisableHookArgs\n",
      " |  \n",
      " |  Methods defined here:\n",
      " |  \n",
      " |  __add__(self, value, /)\n",
      " |      Return self+value.\n",
      " |  \n",
      " |  __contains__(self, key, /)\n",
      " |      Return key in self.\n",
      " |  \n",
      " |  __eq__(self, value, /)\n",
      " |      Return self==value.\n",
      " |  \n",
      " |  __ge__(self, value, /)\n",
      " |      Return self>=value.\n",
      " |  \n",
      " |  __getattribute__(self, name, /)\n",
      " |      Return getattr(self, name).\n",
      " |  \n",
      " |  __getitem__(self, key, /)\n",
      " |      Return self[key].\n",
      " |  \n",
      " |  __getnewargs__(self, /)\n",
      " |  \n",
      " |  __gt__(self, value, /)\n",
      " |      Return self>value.\n",
      " |  \n",
      " |  __hash__(self, /)\n",
      " |      Return hash(self).\n",
      " |  \n",
      " |  __iter__(self, /)\n",
      " |      Implement iter(self).\n",
      " |  \n",
      " |  __le__(self, value, /)\n",
      " |      Return self<=value.\n",
      " |  \n",
      " |  __len__(self, /)\n",
      " |      Return len(self).\n",
      " |  \n",
      " |  __lt__(self, value, /)\n",
      " |      Return self<value.\n",
      " |  \n",
      " |  __mul__(self, value, /)\n",
      " |      Return self*value.\n",
      " |  \n",
      " |  __ne__(self, value, /)\n",
      " |      Return self!=value.\n",
      " |  \n",
      " |  __repr__(self, /)\n",
      " |      Return repr(self).\n",
      " |  \n",
      " |  __rmul__(self, value, /)\n",
      " |      Return value*self.\n",
      " |  \n",
      " |  count(self, value, /)\n",
      " |      Return number of occurrences of value.\n",
      " |  \n",
      " |  index(self, value, start=0, stop=9223372036854775807, /)\n",
      " |      Return first index of value.\n",
      " |      \n",
      " |      Raises ValueError if the value is not present.\n",
      " |  \n",
      " |  ----------------------------------------------------------------------\n",
      " |  Class methods defined here:\n",
      " |  \n",
      " |  __class_getitem__(...) from builtins.type\n",
      " |      See PEP 585\n",
      " |  \n",
      " |  ----------------------------------------------------------------------\n",
      " |  Static methods defined here:\n",
      " |  \n",
      " |  __new__(*args, **kwargs) from builtins.type\n",
      " |      Create and return a new object.  See help(type) for accurate signature.\n",
      "\n"
     ]
    }
   ],
   "source": [
    "help(tuple)"
   ]
  },
  {
   "attachments": {},
   "cell_type": "markdown",
   "metadata": {},
   "source": [
    "**Accessing Elements from tuples**"
   ]
  },
  {
   "cell_type": "code",
   "execution_count": 22,
   "metadata": {},
   "outputs": [
    {
     "data": {
      "text/plain": [
       "('manish', 21, 5.6, 'B+')"
      ]
     },
     "execution_count": 22,
     "metadata": {},
     "output_type": "execute_result"
    }
   ],
   "source": [
    "tup"
   ]
  },
  {
   "cell_type": "code",
   "execution_count": 24,
   "metadata": {},
   "outputs": [
    {
     "data": {
      "text/plain": [
       "'B+'"
      ]
     },
     "execution_count": 24,
     "metadata": {},
     "output_type": "execute_result"
    }
   ],
   "source": [
    "# tuple supports indexing \n",
    "tup[3]"
   ]
  },
  {
   "attachments": {},
   "cell_type": "markdown",
   "metadata": {},
   "source": [
    "**modifying the tuple**"
   ]
  },
  {
   "cell_type": "code",
   "execution_count": 25,
   "metadata": {},
   "outputs": [
    {
     "ename": "TypeError",
     "evalue": "'tuple' object does not support item assignment",
     "output_type": "error",
     "traceback": [
      "\u001b[1;31m---------------------------------------------------------------------------\u001b[0m",
      "\u001b[1;31mTypeError\u001b[0m                                 Traceback (most recent call last)",
      "\u001b[1;32mg:\\WorkData\\Programming\\Python\\Python Tutorial\\Python Basic Tutorials\\Python Introduction\\Function.ipynb Cell 49\u001b[0m in \u001b[0;36m1\n\u001b[1;32m----> <a href='vscode-notebook-cell:/g%3A/WorkData/Programming/Python/Python%20Tutorial/Python%20Basic%20Tutorials/Python%20Introduction/Function.ipynb#Y112sZmlsZQ%3D%3D?line=0'>1</a>\u001b[0m tup[\u001b[39m3\u001b[39;49m] \u001b[39m=\u001b[39m \u001b[39m'\u001b[39m\u001b[39mO-\u001b[39m\u001b[39m'\u001b[39m\n",
      "\u001b[1;31mTypeError\u001b[0m: 'tuple' object does not support item assignment"
     ]
    }
   ],
   "source": [
    "tup[3] = 'O-'"
   ]
  },
  {
   "cell_type": "code",
   "execution_count": 26,
   "metadata": {},
   "outputs": [
    {
     "data": {
      "text/plain": [
       "3"
      ]
     },
     "execution_count": 26,
     "metadata": {},
     "output_type": "execute_result"
    }
   ],
   "source": [
    "tup.index(\"B+\")"
   ]
  },
  {
   "cell_type": "code",
   "execution_count": 27,
   "metadata": {},
   "outputs": [
    {
     "data": {
      "text/plain": [
       "0"
      ]
     },
     "execution_count": 27,
     "metadata": {},
     "output_type": "execute_result"
    }
   ],
   "source": [
    "tup.index(\"manish\")"
   ]
  },
  {
   "cell_type": "code",
   "execution_count": 28,
   "metadata": {},
   "outputs": [
    {
     "data": {
      "text/plain": [
       "('manish', 21, 5.6, 'B+', 45, 67)"
      ]
     },
     "execution_count": 28,
     "metadata": {},
     "output_type": "execute_result"
    }
   ],
   "source": [
    "tup + (45, 67)"
   ]
  },
  {
   "cell_type": "code",
   "execution_count": 29,
   "metadata": {},
   "outputs": [
    {
     "data": {
      "text/plain": [
       "('manish', 21, 5.6, 'B+')"
      ]
     },
     "execution_count": 29,
     "metadata": {},
     "output_type": "execute_result"
    }
   ],
   "source": [
    "tup"
   ]
  },
  {
   "cell_type": "code",
   "execution_count": null,
   "metadata": {},
   "outputs": [],
   "source": []
  }
 ],
 "metadata": {
  "kernelspec": {
   "display_name": "Python 3",
   "language": "python",
   "name": "python3"
  },
  "language_info": {
   "codemirror_mode": {
    "name": "ipython",
    "version": 3
   },
   "file_extension": ".py",
   "mimetype": "text/x-python",
   "name": "python",
   "nbconvert_exporter": "python",
   "pygments_lexer": "ipython3",
   "version": "3.10.5"
  },
  "orig_nbformat": 4
 },
 "nbformat": 4,
 "nbformat_minor": 2
}
