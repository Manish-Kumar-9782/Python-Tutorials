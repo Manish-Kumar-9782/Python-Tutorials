{
 "cells": [
  {
   "attachments": {},
   "cell_type": "markdown",
   "metadata": {},
   "source": [
    "# Conditional Statements\n",
    "\n",
    "if we want to control that a single statement of a group of statements should be executed after \n",
    "specified conditions is satisfied.\n",
    "\n",
    "In python we have only if-else or if-ladder statements to control the flow of statement execution.\n",
    "\n",
    "syntax:\n",
    "\n",
    "```python\n",
    "    # for single condition we only use if statement.\n",
    "    if condition:\n",
    "        # statement \n",
    "        # group of statements.\n",
    "\n",
    "    \"\"\"\n",
    "    Note: In this we have only specified one condition so, it will only check for that condition, if condition\n",
    "        is satisfied then only that block of statement will be executed, else it will be skipped.\n",
    "    \"\"\"\n",
    "    \n",
    "    # if we want to yes or no type condition (this or that type problem)\n",
    "    if condition:\n",
    "        # statement \n",
    "        # group of statements.\n",
    "    else:\n",
    "        # \n",
    "        # group of statements\n",
    "    \n",
    "```"
   ]
  }
 ],
 "metadata": {
  "language_info": {
   "name": "python"
  },
  "orig_nbformat": 4
 },
 "nbformat": 4,
 "nbformat_minor": 2
}
