{
 "cells": [
  {
   "attachments": {},
   "cell_type": "markdown",
   "metadata": {},
   "source": [
    "# Conditional Statements\n",
    "\n",
    "if we want to control that a single statement of a group of statements should be executed after \n",
    "specified conditions is satisfied.\n",
    "\n",
    "In python we have only if-else or if-ladder statements to control the flow of statement execution.\n",
    "\n",
    "syntax:\n",
    "\n",
    "```python\n",
    "    # for single condition we only use if statement.\n",
    "    if condition:\n",
    "        # statement \n",
    "        # group of statements.\n",
    "\n",
    "    \"\"\"\n",
    "    Note: In this we have only specified one condition so, it will only check for that condition, if condition\n",
    "        is satisfied then only that block of statement will be executed, else it will be skipped.\n",
    "    \"\"\"\n",
    "    \n",
    "    # if we want to yes or no type condition (this or that type problem)\n",
    "    if condition:\n",
    "        # statement \n",
    "        # group of statements.\n",
    "    else:\n",
    "        # \n",
    "        # group of statements\n",
    "    \n",
    "\n",
    "    # if we have multiple statement more then two conditions then we can use a sequence of \n",
    "    # elif statements\n",
    "\n",
    "    if condition:\n",
    "        # statement 1\n",
    "    elif condition:\n",
    "        # statement 2\n",
    "    elif condition:\n",
    "        # statement 3\n",
    "    else:\n",
    "        # default statement\n",
    "```"
   ]
  },
  {
   "cell_type": "code",
   "execution_count": 1,
   "metadata": {},
   "outputs": [],
   "source": [
    "a = 10\n",
    "b = 20\n",
    "c = 10"
   ]
  },
  {
   "cell_type": "code",
   "execution_count": 6,
   "metadata": {},
   "outputs": [],
   "source": [
    "# case 1:\n",
    "if a > b:\n",
    "    print(\"a is greater than b: \", a > b)"
   ]
  },
  {
   "cell_type": "code",
   "execution_count": 7,
   "metadata": {},
   "outputs": [
    {
     "name": "stdout",
     "output_type": "stream",
     "text": [
      "a is less than b:  True\n"
     ]
    }
   ],
   "source": [
    "# case 2:\n",
    "if a < b:\n",
    "    print(\"a is less than b: \", a < b)"
   ]
  },
  {
   "attachments": {},
   "cell_type": "markdown",
   "metadata": {},
   "source": [
    "Note: \n",
    "\n",
    "    Case 1: in this a is not greater than b, hence it belonging block is not executed.\n",
    "\n",
    "    Case 2: in this a is less than b, hence it belonging block is executed.\n",
    "\n",
    "if we want to test both cases with same if else chain, then we can use else statement for only two condition."
   ]
  },
  {
   "cell_type": "code",
   "execution_count": 8,
   "metadata": {},
   "outputs": [
    {
     "name": "stdout",
     "output_type": "stream",
     "text": [
      "a is less than b:  True\n"
     ]
    }
   ],
   "source": [
    "if a > b:\n",
    "    print(\"a is greater than b: \", a > b)\n",
    "else:\n",
    "    print(\"a is less than b: \", a < b)"
   ]
  },
  {
   "attachments": {},
   "cell_type": "markdown",
   "metadata": {},
   "source": [
    "Note: In this case we can see that `if` statement is not executed, because it's condition is not satisfied, whenever `if` statement is not executed and it has else statement then else statement will be executed.\n",
    "\n",
    "Note: we have left one condition to test for our above problem.\n",
    "\n",
    "For our above problem, we can make a set of outcomes. we have three outcomes. a> b, a < b, a == b.\n",
    "\n",
    "set of our problem: `{a > b, a < b, a == b}`"
   ]
  },
  {
   "cell_type": "code",
   "execution_count": 10,
   "metadata": {},
   "outputs": [
    {
     "name": "stdout",
     "output_type": "stream",
     "text": [
      "a is less than b\n"
     ]
    }
   ],
   "source": [
    "if a > b:\n",
    "    print(\"a is greater than b\")\n",
    "elif a < b:\n",
    "    print(\"a is less than b\")\n",
    "else:\n",
    "    print(\"a is equal to b\")"
   ]
  },
  {
   "attachments": {},
   "cell_type": "markdown",
   "metadata": {},
   "source": [
    "Note:  if we have multiple conditions then all conditions will be tested in given order until it don't satisfy\n",
    "        any condition of given.\n",
    "\n",
    "        after satisfying any of the condition it will execute the associated block of statements then come our from the if else ladder."
   ]
  },
  {
   "attachments": {},
   "cell_type": "markdown",
   "metadata": {},
   "source": [
    "**Traffic Light Control System**\n",
    "\n",
    "In this we have three different lights , `green`, `orange`, and `red` now we will make the use of if-else statement to create a simple traffic light control system, in this we will pass the signal in string with name of the light color.\n",
    "\n",
    "\n",
    "outComes set: `{green, red, orange, other}`"
   ]
  },
  {
   "cell_type": "code",
   "execution_count": 23,
   "metadata": {},
   "outputs": [
    {
     "name": "stdout",
     "output_type": "stream",
     "text": [
      "🚦DANGER: light is red please stop.\n"
     ]
    }
   ],
   "source": [
    "# light, is our signal variable , which will be tested with the corresponding light color.\n",
    "light = \"red\"\n",
    "\n",
    "if light == \"green\":\n",
    "    print(\"🚦OK: light is green Go Safe...\")\n",
    "elif light == \"red\":\n",
    "    print(\"🚦DANGER: light is red please stop.\")\n",
    "elif light == \"orange\":\n",
    "    print(\"🚦WARNING: Light is going to red, drive safe.\")\n",
    "else:\n",
    "    print(\"Traffic Signal system has failed , call traffic police.\")\n"
   ]
  },
  {
   "cell_type": "code",
   "execution_count": 25,
   "metadata": {},
   "outputs": [],
   "source": [
    "mylist = [1,4,5,3,5,6,8,6,4,6,8,]"
   ]
  },
  {
   "cell_type": "code",
   "execution_count": 27,
   "metadata": {},
   "outputs": [
    {
     "name": "stdout",
     "output_type": "stream",
     "text": [
      "number:  1\n",
      "number:  4\n",
      "number:  5\n",
      "number:  3\n",
      "number:  5\n",
      "number:  6\n",
      "number:  8\n",
      "number:  6\n",
      "number:  4\n",
      "number:  6\n",
      "number:  8\n"
     ]
    }
   ],
   "source": [
    "for i in mylist:\n",
    "    print(\"number: \", i)"
   ]
  },
  {
   "cell_type": "code",
   "execution_count": 29,
   "metadata": {},
   "outputs": [
    {
     "name": "stdout",
     "output_type": "stream",
     "text": [
      "-10 -9 -8 -7 -6 -5 -4 -3 -2 -1 0 1 2 3 4 5 6 7 8 9 "
     ]
    }
   ],
   "source": [
    "# accessing range data.\n",
    "for i in range(-10, 10):\n",
    "    print(i, end=\" \")"
   ]
  },
  {
   "cell_type": "code",
   "execution_count": 33,
   "metadata": {},
   "outputs": [
    {
     "name": "stdout",
     "output_type": "stream",
     "text": [
      "0 "
     ]
    }
   ],
   "source": [
    "# without specifying the starting point\n",
    "for i in range(1):\n",
    "    print(i, end=\" \")"
   ]
  },
  {
   "cell_type": "code",
   "execution_count": null,
   "metadata": {},
   "outputs": [],
   "source": []
  }
 ],
 "metadata": {
  "kernelspec": {
   "display_name": "Python 3",
   "language": "python",
   "name": "python3"
  },
  "language_info": {
   "codemirror_mode": {
    "name": "ipython",
    "version": 3
   },
   "file_extension": ".py",
   "mimetype": "text/x-python",
   "name": "python",
   "nbconvert_exporter": "python",
   "pygments_lexer": "ipython3",
   "version": "3.10.5"
  },
  "orig_nbformat": 4
 },
 "nbformat": 4,
 "nbformat_minor": 2
}
